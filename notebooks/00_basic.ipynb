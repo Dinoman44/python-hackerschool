{
 "cells": [
  {
   "cell_type": "markdown",
   "id": "4ce397f8",
   "metadata": {},
   "source": [
    "# About Python Notebooks\n",
    "\n",
    "Notebooks are a way to interleave code, text, and outputs in a single document.\n",
    "\n",
    "A notebook consists of a series of cells (or blocks). Each cell can contain either code or text (formatted using [Markdown](https://en.wikipedia.org/wiki/Markdown)). When you run a code cell, the code is executed, and the output is displayed directly below the cell.\n",
    "\n",
    "Each cell can be executed independently, but the state of the notebook is shared across all cells. This means that variables defined in one cell can be used in another cell, as long as the cell defining the variable has been executed first.\n",
    "\n",
    "## Usage in VS Code\n",
    "\n",
    "Install the [Jupyter extension for VS Code](https://marketplace.visualstudio.com/items?itemName=ms-toolsai.jupyter) to get additional features and better integration.\n",
    "\n",
    "Make sure you also have the [Python extension](https://marketplace.visualstudio.com/items?itemName=ms-python.python) installed, as it provides support for Python code execution within notebooks.\n",
    "\n",
    "Once the extensions are installed, create a new notebook file with the `.ipynb` extension or open an existing one. You can add new cells, run code, and see outputs directly within VS Code.\n",
    "\n",
    "To run a code cell, click the \"Run\" button (a triangle icon) that appears to the left of the cell when you hover over it, or use the keyboard shortcut `Shift + Enter`. This will execute the cell and move the cursor to the next cell.\n",
    "\n",
    "You may need to select the \"kernel\" (the Python interpreter) for your notebook. You can do this by clicking on the kernel name in the top right corner of the notebook interface and selecting the appropriate Python environment/version that is installed and detected by VS Code.\n",
    "\n",
    "A more extensive guide is available [here](https://code.visualstudio.com/docs/datascience/jupyter-notebooks)."
   ]
  },
  {
   "cell_type": "markdown",
   "id": "d5ec5950",
   "metadata": {},
   "source": [
    "## Input and output\n",
    "To output something, use the `print` function\n",
    "\n",
    "To take in a value from the user as input, use the `input` function.\n",
    "\n",
    "## Variables\n",
    "Values can be stored in variables for later use.\n",
    "\n",
    "Variables can be given any name you like, as long as you follow these rules:\n",
    "- Variable names can only contain letters, numbers, and underscores (`_`).\n",
    "- Variable names cannot start with a number.\n",
    "- Variable names cannot be the same as Python keywords (like `print` or `input`)."
   ]
  },
  {
   "cell_type": "code",
   "execution_count": null,
   "id": "bcf9becc",
   "metadata": {},
   "outputs": [],
   "source": [
    "# this is a comment\n",
    "# everything that follows the # symbol on the same line is ignored by Python\n",
    "\n",
    "# this code block asks for your name and greets you\n",
    "name = input(\"What is your name? \")\n",
    "print(\"Hello, \" + name + \"!\")\n",
    "\n",
    "age = input(\"How old are you? \")\n",
    "print(\"You are\", age, \"years old.\")"
   ]
  },
  {
   "cell_type": "markdown",
   "id": "3e120913",
   "metadata": {},
   "source": [
    "## Basic data types\n",
    "\n",
    "### Numeric / Number\n",
    "This is just any number.\n",
    "\n",
    "Can be positive or negative, decimal or integer.\n",
    "\n",
    "Python also supports complex numbers and scientific notation.\n",
    "\n",
    "Unlike other languages, Python does not have an upper or lower bound on the size of the number."
   ]
  },
  {
   "cell_type": "code",
   "execution_count": null,
   "id": "cab87177",
   "metadata": {},
   "outputs": [],
   "source": [
    "some_integer = 56\n",
    "some_decimal = 343.233\n",
    "some_negative = -23\n",
    "some_complex = 3 + 4j # j is the imaginary unit in Python, sqrt(-1)\n",
    "scientific_notation = 1.2e3 # 1.2 * 10^3 = 1200.0\n",
    "mix = -5.67e-2 + 45j # -5.67 * 10^-2 + 45j = -0.0567 + 45j\n",
    "print(\"Some number: \", mix)"
   ]
  },
  {
   "cell_type": "markdown",
   "id": "0b3d127a",
   "metadata": {},
   "source": [
    "## Booleans\n",
    "Booleans are values that can only be either `True` or `False`.\n",
    "\n",
    "These are very useful in conditions and comparisons."
   ]
  },
  {
   "cell_type": "code",
   "execution_count": null,
   "id": "0ff3ee03",
   "metadata": {},
   "outputs": [],
   "source": [
    "x = True\n",
    "y = False\n",
    "print(\"x:\", x)\n",
    "print(\"y:\", y)"
   ]
  },
  {
   "cell_type": "markdown",
   "id": "6e1e13a3",
   "metadata": {},
   "source": [
    "## Strings\n",
    "Strings are sequences of any characters, enclosed in either single quotes (`'`) or double quotes (`\"`)."
   ]
  },
  {
   "cell_type": "code",
   "execution_count": null,
   "id": "f5a5e2aa",
   "metadata": {},
   "outputs": [],
   "source": [
    "name = \"Prakamya Singh\"\n",
    "club = \"NUS Hackers\"\n",
    "title = \"Python Workshop - Hackerschool AY25/26 Semester 1\"\n",
    "print(\"Welcome to the \" + title + \" by \" + club + \", \" + name)"
   ]
  },
  {
   "cell_type": "markdown",
   "id": "17214577",
   "metadata": {},
   "source": [
    "## Typecasting\n",
    "\n",
    "Values can be changed from one type to another assuming the conversion is valid.\n",
    "- Use `int()` to convert to integer\n",
    "- Use `float()` to convert to float\n",
    "- Use `str()` to convert to string\n",
    "- Use `bool()` to convert to boolean\n",
    "- Use `list()`, `tuple()`, `set()` to convert to respective collection types"
   ]
  },
  {
   "cell_type": "code",
   "execution_count": null,
   "id": "2d086b2f",
   "metadata": {},
   "outputs": [],
   "source": [
    "# ignore this tuple assignment for now\n",
    "a, b, c = \"10\", 10.5, \"44.4\"\n",
    "# valid conversions\n",
    "int_from_str = int(a)          # converts string \"10\" to integer 10\n",
    "float_from_str = float(c)      # converts string \"44.4\" to float 44.4\n",
    "str_from_int = str(b)         # converts integer 10 to string \"10\"\n",
    "\n",
    "# invalid conversion - uncomment this line to see the error\n",
    "# invalid_int = int(\"Hello\")  # raises ValueError because \"Hello\" cannot be converted to an integer"
   ]
  },
  {
   "cell_type": "markdown",
   "id": "e072964c",
   "metadata": {},
   "source": [
    "### Checking types\n",
    "\n",
    "Use the `type()` function to check the type of a variable or value."
   ]
  },
  {
   "cell_type": "code",
   "execution_count": null,
   "id": "7a656b3c",
   "metadata": {},
   "outputs": [],
   "source": [
    "x, y, z, a, b, c = 10, 4.5, \"NUS Hackers\", True, 3 + 4j, -2.3e4\n",
    "print(type(x))  # Output: <class 'int'>\n",
    "print(type(y))  # Output: <class 'float'>\n",
    "print(type(z))  # Output: <class 'str'>\n",
    "print(type(a))  # Output: <class 'bool'>\n",
    "print(type(b))  # Output: <class 'complex'>\n",
    "print(type(c))  # Output: <class 'float'>"
   ]
  },
  {
   "cell_type": "markdown",
   "id": "f933a4eb",
   "metadata": {},
   "source": [
    "## Operations and Operators\n",
    "\n",
    "Python supports various operations on different data types using operators.\n",
    "\n",
    "### Arithmetic Operators\n",
    "- Addition: `+`\n",
    "- Subtraction: `-`\n",
    "- Multiplication: `*`\n",
    "- Division: `/`\n",
    "- Floor Division: `//`\n",
    "- Modulus: `%`\n",
    "- Exponentiation: `**`"
   ]
  },
  {
   "cell_type": "code",
   "execution_count": null,
   "id": "07d943eb",
   "metadata": {},
   "outputs": [],
   "source": [
    "a = 10 + 5\n",
    "b = 4.5 - 2.0\n",
    "c = a * b\n",
    "d = a / 3\n",
    "e = a // 3  # floor division\n",
    "f = a % 3   # modulus\n",
    "g = a ** 2  # exponentiation\n",
    "print(\"a:\", a)\n",
    "print(\"b:\", b)\n",
    "print(\"c:\", c)\n",
    "print(\"d:\", d)\n",
    "print(\"e:\", e)\n",
    "print(\"f:\", f)\n",
    "print(\"g:\", g)"
   ]
  },
  {
   "cell_type": "markdown",
   "id": "672f614c",
   "metadata": {},
   "source": [
    "### Assignment operators\n",
    "\n",
    "#### Assignment/Initialization: `=`\n",
    "    \n",
    "This assigns a value to a variable.\n",
    "For example, `a = 10` assigns the integer value `10` to the variable `a`.\n",
    "\n",
    "#### Tuple assignment: `a, b = 10, 20`\n",
    "    \n",
    "This assigns multiple values in the same line to different variables.\n",
    "The above example is the same as:\n",
    "```python\n",
    "a = 10\n",
    "b = 20\n",
    "```\n",
    "\n",
    "#### Multiple assignment: `a = b = 30`\n",
    "    \n",
    "This assigns the same value to multiple variables.\n",
    "The above example is the same as:\n",
    "```python\n",
    "a = 30\n",
    "b = 30\n",
    "```\n",
    "\n",
    "#### Operation assignment: `a += 5`, `b *= 2`, etc.\n",
    "    \n",
    "This performs an arithmetic or bitwise operation and assigns the result back to the variable.\n",
    "For example, `a += 5` is equivalent to `a = a + 5`.\n",
    "In general, any operator `op` can be combined with `=` to form an operation assignment: `a op= b` is equivalent to `a = a op b`."
   ]
  },
  {
   "cell_type": "code",
   "execution_count": null,
   "id": "5ec0d271",
   "metadata": {},
   "outputs": [],
   "source": [
    "a = 10 # assign 10 to a\n",
    "b, c, d = 20, 30, 40 # tuple assignment\n",
    "e = f = 50 # multiple assignment\n",
    "print(\"a:\", a)\n",
    "print(\"b:\", b)\n",
    "print(\"c:\", c)\n",
    "print(\"d:\", d)\n",
    "print(\"e:\", e)\n",
    "print(\"f:\", f)\n",
    "\n",
    "# operation assignment examples:\n",
    "a += 10 # add 10 to a\n",
    "b -= 14 # subtract 14 from b\n",
    "c *= 2 # multiply c by 2\n",
    "d /= 4 # divide d by 4\n",
    "e //= 3 # floor divide e by 3\n",
    "f %= 7 # modulo f with 7\n",
    "print(\"a:\", a)\n",
    "print(\"b:\", b)\n",
    "print(\"c:\", c)\n",
    "print(\"d:\", d)\n",
    "print(\"e:\", e)\n",
    "print(\"f:\", f)"
   ]
  },
  {
   "cell_type": "markdown",
   "id": "e5c9743f",
   "metadata": {},
   "source": [
    "### Comparison Operators\n",
    "- Equal to: `==`\n",
    "- Not equal to: `!=`\n",
    "- Greater than: `>`\n",
    "- Less than: `<`\n",
    "- Greater than or equal to: `>=`\n",
    "- Less than or equal to: `<=`\n",
    "\n",
    "Every comparison operation returns a boolean value (`True` or `False`).\n",
    "\n",
    "The values being compared must be comparable with each other; otherwise, a `TypeError` will be raised.\n",
    "- Numbers can be compared with numbers.\n",
    "- Strings can be compared with strings.\n",
    "- Booleans can be compared with booleans.\n",
    "- Different types (e.g., number and string) cannot be compared using <, >, <=, >= operators."
   ]
  },
  {
   "cell_type": "code",
   "execution_count": null,
   "id": "2a3b1033",
   "metadata": {},
   "outputs": [],
   "source": [
    "print(10 == 10)  # True\n",
    "print(\"apple\" != \"appel\")   # False\n",
    "print(7 > 3)     # True\n",
    "print(4 < 3)     # False\n",
    "print(6 >= 7)    # False\n",
    "print(5 <= 0)    # False\n",
    "\n",
    "print(4 == \"4\")  # False\n",
    "# print(4 > \"hello\") # gives an error"
   ]
  },
  {
   "cell_type": "markdown",
   "id": "2e887b71",
   "metadata": {},
   "source": [
    "### Logical operators\n",
    "\n",
    "Sometimes you may need to work with boolean values.\n",
    "\n",
    "#### And: `and`\n",
    "Returns `True` if both operands are `True`, otherwise returns `False`.\n",
    "\n",
    "#### Or: `or`\n",
    "Returns `True` if at least one operand is `True`, otherwise returns `False`.\n",
    "\n",
    "#### Not: `not`\n",
    "Returns the opposite boolean value of the operand."
   ]
  },
  {
   "cell_type": "code",
   "execution_count": null,
   "id": "5ec6efc0",
   "metadata": {},
   "outputs": [],
   "source": [
    "x, y, z = True, 3 + 4, \"hello\"\n",
    "print(not x) # opposite of True is False\n",
    "print(x and (y > 5)) # y is 7, so y > 5 is True, and x is True, so the whole expression is True\n",
    "print(x and (y < 5)) # y is 7, so y < 5 is False, so the whole expression is False\n",
    "print(x or (z == \"world\")) # x is True, so the whole expression is True\n",
    "\n",
    "# combining comparison operators\n",
    "age = 25\n",
    "print(age > 18 and age < 65)  # True\n",
    "print(age < 18 or age > 65)   # False\n",
    "\n",
    "# combining logical operators\n",
    "print(x and (y > 5 or z == \"hello\"))  # True\n"
   ]
  },
  {
   "cell_type": "markdown",
   "id": "4caa9023",
   "metadata": {},
   "source": [
    "### Bitwise operators [ADVANCED]\n",
    "\n",
    "_Feel free to skip this section if you are not familiar with binary numbers and operators._\n",
    "\n",
    "Bitwise operators perform operations on the binary representations of integers.\n",
    "\n",
    "- AND: `&`\n",
    "- OR: `|`\n",
    "- XOR: `^` (only one of the bits can be 1 for the result to be 1)\n",
    "- Left Shift: `<<` (shifts bits to the left, filling with 0s)\n",
    "- Right Shift: `>>` (shifts bits to the right, filling with 0s)\n",
    "\n",
    "These are useful when working with bit operations. Bitwise operators perform the logical operation between each corresponding bit of the numbers.\n",
    "\n",
    "Ex:\n",
    "```python\n",
    "x = 5  # In binary: 0101\n",
    "y = 4  # In binary: 0100\n",
    "x & y # Result: 4 (In binary: 0100)\n",
    "```\n",
    "\n",
    "In the above example, the bitwise AND operation compares each bit of `x` and `y`. Only the bits that are both `1` result in `1`; all other bits result in `0`:\n",
    "\n",
    "```plaintext\n",
    "  0 1 0 1\n",
    "  | | | |\n",
    "& 0 1 0 0\n",
    "----------\n",
    "  0 1 0 0  (which is 4 in decimal)\n",
    "```\n",
    "\n",
    "Some results may be negative - you will need to understand how numbers are represented in binary (Two's Complement) to fully grasp this.\n",
    "\n",
    "Another example, using right shift:\n",
    "```python\n",
    "x = 20  # In binary: 0001 0100\n",
    "x >> 2  # Result: 5 (In binary: 0000 0101)\n",
    "```\n",
    "\n",
    "Left shift works similarly, but shifts bits to the left instead of the right.\n",
    "\n",
    "Other bitwise operators only operate on one number:\n",
    "- NOT: `~` (inverts all bits)\n",
    "For example:\n",
    "```python\n",
    "~x  # If x is 5 (0000...0101), ~x will be -6 (1111...1010 in Two's Complement)\n",
    "```"
   ]
  },
  {
   "cell_type": "code",
   "execution_count": null,
   "id": "d28580cb",
   "metadata": {},
   "outputs": [],
   "source": [
    "x, y = 5, 4\n",
    "# 5 is 000....0000101 in binary, 4 is 000....0000100 in binary\n",
    "print(x & y) # Bitwise AND\n",
    "print(x | y) # Bitwise OR\n",
    "print(x ^ y) # Bitwise XOR\n",
    "print(~x)    # Bitwise NOT\n",
    "print(x << 3) # Left Shift\n",
    "print(x >> 2) # Right Shift"
   ]
  },
  {
   "cell_type": "markdown",
   "id": "0cc0313d",
   "metadata": {},
   "source": [
    "## Combining operators\n",
    "\n",
    "Operators can be combined to form more complex expressions."
   ]
  },
  {
   "cell_type": "code",
   "execution_count": null,
   "id": "4fcf2eab",
   "metadata": {},
   "outputs": [],
   "source": [
    "p, q, r, s = 12, 5, \"hello\", True\n",
    "pq = p * q\n",
    "pq += (p - q) * 2\n",
    "print(\"Final value of pq:\", pq) # what is the value of pq?\n",
    "\n",
    "t = r + \" world!\"\n",
    "u = str(q) + \" is a number\" # convert integer q to string, then concatenate with another string\n",
    "print(t, u)\n",
    "\n",
    "print(int(s))  # True converts to 1, False converts to 0"
   ]
  }
 ],
 "metadata": {
  "kernelspec": {
   "display_name": "Python 3",
   "language": "python",
   "name": "python3"
  },
  "language_info": {
   "codemirror_mode": {
    "name": "ipython",
    "version": 3
   },
   "file_extension": ".py",
   "mimetype": "text/x-python",
   "name": "python",
   "nbconvert_exporter": "python",
   "pygments_lexer": "ipython3",
   "version": "3.14.0"
  }
 },
 "nbformat": 4,
 "nbformat_minor": 5
}
