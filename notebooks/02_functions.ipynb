{
 "cells": [
  {
   "cell_type": "markdown",
   "id": "f58794d6",
   "metadata": {},
   "source": [
    "# Functions\n",
    "Functions are reusable blocks of code that perform a specific task. They help in organizing code and avoiding repetition.\n",
    "\n",
    "```python\n",
    "def function_name(parameters):\n",
    "    # Code block\n",
    "    return result\n",
    "```\n",
    "\n",
    "## Arguments and Return Values\n",
    "Functions can take inputs called arguments and can return outputs using the `return` statement.\n",
    "\n",
    "Functions can take 0 or more arguments, and can return 0 or more values. For now, we will focus on functions that return a single value (or nothing at all).\n",
    "\n",
    "## Substitution\n",
    "When a function is called, the arguments provided are substituted into the function's parameters, and the code block is executed with those values.\n",
    "\n",
    "```python\n",
    "def subtract(a, b):\n",
    "    return a - b\n",
    "\n",
    "x = 10\n",
    "y = 5\n",
    "result = subtract(x, y) # result is 5\n",
    "```\n",
    "\n",
    "In the above example, when `subtract(x, y)` is called, `x` and `y` are substituted into the parameters `a` and `b`, respectively. The function then computes `10 - 5` and returns `5`."
   ]
  },
  {
   "cell_type": "code",
   "execution_count": null,
   "id": "b1f2b38d",
   "metadata": {},
   "outputs": [],
   "source": [
    "def is_divisible(num, divisor):\n",
    "    return num % divisor == 0\n",
    "\n",
    "print(is_divisible(10, 2))  # True\n",
    "print(is_divisible(10, 3))  # False"
   ]
  },
  {
   "cell_type": "code",
   "execution_count": null,
   "id": "9c273d42",
   "metadata": {},
   "outputs": [],
   "source": [
    "def distance(x1, y1, x2, y2):\n",
    "    dx = x2 - x1\n",
    "    dy = y2 - y1\n",
    "    return (dx**2 + dy**2) ** 0.5\n",
    "\n",
    "print(distance(0, 0, 3, 4))"
   ]
  },
  {
   "cell_type": "code",
   "execution_count": null,
   "id": "ef26224b",
   "metadata": {},
   "outputs": [],
   "source": [
    "def greet_user(username):\n",
    "    print(\"Hello\", username)\n",
    "    # note no return value\n",
    "\n",
    "greet_user(\"Alice\")"
   ]
  },
  {
   "cell_type": "code",
   "execution_count": null,
   "id": "c4d8fc6f",
   "metadata": {},
   "outputs": [],
   "source": [
    "def return_10(): # note no arguments\n",
    "    return 10\n",
    "\n",
    "print(return_10())  # prints 10"
   ]
  }
 ],
 "metadata": {
  "kernelspec": {
   "display_name": ".venv (3.12.10)",
   "language": "python",
   "name": "python3"
  },
  "language_info": {
   "codemirror_mode": {
    "name": "ipython",
    "version": 3
   },
   "file_extension": ".py",
   "mimetype": "text/x-python",
   "name": "python",
   "nbconvert_exporter": "python",
   "pygments_lexer": "ipython3",
   "version": "3.12.10"
  }
 },
 "nbformat": 4,
 "nbformat_minor": 5
}
