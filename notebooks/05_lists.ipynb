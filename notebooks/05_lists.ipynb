{
 "cells": [
  {
   "cell_type": "markdown",
   "id": "9e00feff",
   "metadata": {},
   "source": [
    "# List methods\n",
    "\n",
    "Like string methods, these are methods that can be called on list objects to perform various operations.\n",
    "\n",
    "Check out the [official Python documentation on list methods](https://docs.python.org/3/tutorial/datastructures.html#more-on-lists) for a comprehensive list and explanations of all available list methods.\n",
    "\n",
    "**Note that list methods may or may not modify the original list in place!**\n",
    "\n",
    "List methods, like string methods, are also called using the dot notation:\n",
    "\n",
    "```python\n",
    "some_list = [...]\n",
    "\n",
    "some_list.method_name(arguments)\n",
    "```"
   ]
  },
  {
   "cell_type": "code",
   "execution_count": null,
   "id": "0e1ccf05",
   "metadata": {},
   "outputs": [],
   "source": [
    "# Exercise: what do these list methods do? Read the docs (or play with the methods) to find out\n",
    "\n",
    "my_list = [1, 2, 3, 4, 5]\n",
    "\n",
    "# modifying the list ordering\n",
    "print(\"Modifying the list ordering:\")\n",
    "my_list.reverse()\n",
    "print(my_list)\n",
    "my_list.sort()\n",
    "print(my_list)\n",
    "my_list.sort(reverse=True)\n",
    "print(my_list)"
   ]
  },
  {
   "cell_type": "code",
   "execution_count": null,
   "id": "d726d797",
   "metadata": {},
   "outputs": [],
   "source": [
    "my_list = [1, 2, 3, 4, 5]\n",
    "\n",
    "# NOT modifying the list ordering\n",
    "print(\"NOT modifying the list ordering:\")\n",
    "new_list = sorted(my_list)\n",
    "print(new_list)\n",
    "print(my_list)\n",
    "new_list = sorted(my_list, reverse=True)\n",
    "print(new_list)\n",
    "print(my_list)\n",
    "new_list = reversed(my_list)\n",
    "print(list(new_list)) # why do you need this type conversion?\n",
    "print(my_list)"
   ]
  },
  {
   "cell_type": "code",
   "execution_count": null,
   "id": "0be0cfb5",
   "metadata": {},
   "outputs": [],
   "source": [
    "my_list = [1, 2, 3, 4, 5]\n",
    "\n",
    "# adding elements\n",
    "print(\"Adding elements:\")\n",
    "my_list.append(6)\n",
    "print(my_list)\n",
    "my_list.insert(3, 100)\n",
    "print(my_list)\n",
    "my_list.extend([7, 8, 9])\n",
    "print(my_list)"
   ]
  },
  {
   "cell_type": "code",
   "execution_count": null,
   "id": "45f68eb2",
   "metadata": {},
   "outputs": [],
   "source": [
    "my_list = [1, 2, 3, 4, 5, 5, 5, 8, 9, 10]\n",
    "\n",
    "# removing elements\n",
    "print(\"Removing elements:\")\n",
    "my_list.remove(5)\n",
    "print(my_list)\n",
    "popped_element = my_list.pop()\n",
    "print(popped_element)\n",
    "print(my_list)\n",
    "popped_element = my_list.pop(2)\n",
    "print(popped_element)\n",
    "my_list.clear()\n",
    "print(my_list)"
   ]
  },
  {
   "cell_type": "code",
   "execution_count": null,
   "id": "539cf457",
   "metadata": {},
   "outputs": [],
   "source": [
    "my_list = [1, 2, 2, 2, 5]\n",
    "\n",
    "# membership checking\n",
    "print(\"Membership checking:\")\n",
    "print(2 in my_list)\n",
    "print(10 in my_list)\n",
    "print(my_list.count(1))\n",
    "print(my_list.count(2))\n",
    "print(my_list.count(10))\n",
    "print(my_list.index(1))\n",
    "print(my_list.index(2))\n",
    "# print(my_list.index(10)) # uncomment this to see what happens"
   ]
  }
 ],
 "metadata": {
  "kernelspec": {
   "display_name": ".venv (3.12.10)",
   "language": "python",
   "name": "python3"
  },
  "language_info": {
   "codemirror_mode": {
    "name": "ipython",
    "version": 3
   },
   "file_extension": ".py",
   "mimetype": "text/x-python",
   "name": "python",
   "nbconvert_exporter": "python",
   "pygments_lexer": "ipython3",
   "version": "3.12.10"
  }
 },
 "nbformat": 4,
 "nbformat_minor": 5
}
