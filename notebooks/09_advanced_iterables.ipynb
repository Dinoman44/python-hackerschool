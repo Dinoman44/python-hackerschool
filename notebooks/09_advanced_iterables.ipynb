{
 "cells": [
  {
   "cell_type": "markdown",
   "id": "b758787e",
   "metadata": {},
   "source": [
    "# Tuple Unpacking\n",
    "\n",
    "From [00_basic.ipynb](./00_basic.ipynb), you might remember tuple assignment:\n",
    "\n",
    "```python\n",
    "a, b = 1, 2\n",
    "```\n",
    "\n",
    "This relies on something called *tuple unpacking*, where the right-hand side is treated as a tuple (in this case, `(1, 2)`) that gets unpacked into the variables on the left-hand side.\n",
    "\n",
    "We saw [earlier](./08_advanced_functions.ipynb) that functions can return multiple values as tuples, and that we can use tuple unpacking to assign those returned values to separate variables. For example:\n",
    "\n",
    "```python\n",
    "def sum_and_product(x, y):\n",
    "    return x + y, x * y\n",
    "\n",
    "sum_result, product_result = sum_and_product(3, 4)\n",
    "```"
   ]
  },
  {
   "cell_type": "code",
   "execution_count": null,
   "id": "9672ca6f",
   "metadata": {},
   "outputs": [],
   "source": [
    "a, b = 1, 2 # unpacking a tuple\n",
    "c, d = (3, 4) # explicit tuple\n",
    "print(a, b, c, d)\n",
    "\n",
    "e, f = [5, 6] # works with lists too\n",
    "print(e, f)\n",
    "\n",
    "def sum_and_product(x, y):\n",
    "    return x + y, x * y\n",
    "\n",
    "s, p = sum_and_product(3, 4) # unpacking return values\n",
    "print(s, p)"
   ]
  },
  {
   "cell_type": "markdown",
   "id": "799758ce",
   "metadata": {},
   "source": [
    "Tuple unpacking has to match the number of variables on the left with the number of elements in the tuple on the right. If they don't match, Python will raise an error:\n",
    "\n",
    "```python\n",
    "a, b = 1, 2, 3 # wrong\n",
    "a, b, c = 1, 2 # wrong\n",
    "```"
   ]
  },
  {
   "cell_type": "code",
   "execution_count": null,
   "id": "cee0e1a8",
   "metadata": {},
   "outputs": [],
   "source": [
    "# uncomment one of the lines at a time to see the error\n",
    "# a, b = 1, 2, 3\n",
    "# a, b, c = 1, 2"
   ]
  },
  {
   "cell_type": "markdown",
   "id": "480a893e",
   "metadata": {},
   "source": [
    "## Within Loops\n",
    "\n",
    "Imagine a list of coordinate pairs:\n",
    "\n",
    "```python\n",
    "coordinates = [(1, 2), (3, 4), (5, 6)]\n",
    "```\n",
    "\n",
    "Let's say we want to iterate through this list and print out each x and y value separately. One option is to access each element in the for loop and then index into the tuple:\n",
    "\n",
    "```python\n",
    "for point in coordinates:\n",
    "    x = point[0]\n",
    "    y = point[1]\n",
    "    print(f\"x: {x}, y: {y}\")\n",
    "```\n",
    "\n",
    "However, we can use tuple unpacking directly in the for loop to make this shorter:\n",
    "\n",
    "```python\n",
    "for x, y in coordinates:\n",
    "    print(f\"x: {x}, y: {y}\")\n",
    "```\n",
    "\n",
    "What happens is that each tuple in the `coordinates` list is unpacked into the variables `x` and `y` as we iterate through the list:\n",
    " * The first element is `(1, 2)` so `x` becomes `1` and `y` becomes `2`.\n",
    " * The second element is `(3, 4)` so `x` becomes `3` and `y` becomes `4`.\n",
    " * The third element is `(5, 6)` so `x` becomes `5` and `y` becomes `6`.\n",
    "And so on."
   ]
  },
  {
   "cell_type": "code",
   "execution_count": null,
   "id": "b0290c21",
   "metadata": {},
   "outputs": [],
   "source": [
    "coordinates = [(1, 2), (3, 4), (5, 6)]\n",
    "\n",
    "for x, y in coordinates:  # unpacking in a loop\n",
    "    print(f\"x: {x}, y: {y}\")\n",
    "\n",
    "for point in coordinates:  # without unpacking\n",
    "    print(f\"x: {point[0]}, y: {point[1]}\") # need to index into the tuple\n",
    "\n",
    "# compare the outputs, they should be the same"
   ]
  },
  {
   "cell_type": "markdown",
   "id": "3db951d9",
   "metadata": {},
   "source": [
    "More generally, in an iterable that consists of tuples of length, `n`, you can unpack each tuple into `n` variables in the for loop.\n",
    "\n",
    "Essentially:\n",
    "```python\n",
    "for a1, a2, ..., an in iterable_of_tuples:\n",
    "    # do something with a1, a2, ..., an\n",
    "```\n",
    "\n",
    "Is equivalent to:\n",
    "```python\n",
    "for tuple_element in iterable_of_tuples:\n",
    "    a1 = tuple_element[0]\n",
    "    a2 = tuple_element[1]\n",
    "    ...\n",
    "    an = tuple_element[n-1]\n",
    "    # do something with a1, a2, ..., an\n",
    "```\n",
    "\n",
    "Or, using tuple unpacking again:\n",
    "```python\n",
    "for tuple_element in iterable_of_tuples:\n",
    "    a1, a2, ..., an = tuple_element\n",
    "    # do something with a1, a2, ..., an\n",
    "```"
   ]
  },
  {
   "cell_type": "code",
   "execution_count": null,
   "id": "59c630b5",
   "metadata": {},
   "outputs": [],
   "source": [
    "triplets = [(1, 2, 3), (4, 5, 6), (7, 8, 9)]\n",
    "\n",
    "for x, y, z in triplets:\n",
    "    print(f\"x: {x}, y: {y}, z: {z}\")\n",
    "\n",
    "for t in triplets:\n",
    "    print(f\"x: {t[0]}, y: {t[1]}, z: {t[2]}\")\n",
    "\n",
    "# compare the outputs, they should be the same"
   ]
  },
  {
   "cell_type": "markdown",
   "id": "b4477445",
   "metadata": {},
   "source": [
    "This is useful when dealing with dictionaries. Dictionaries have a method called `.items()` that returns an iterable of key-value pairs as tuples. You can use tuple unpacking to get the key and value directly in the for loop:\n",
    "\n",
    "```python\n",
    "my_dict = {'a': 1, 'b': 2, 'c': 3}\n",
    "\n",
    "for key, value in my_dict.items():\n",
    "    print(f\"key: {key}, value: {value}\")\n",
    "```"
   ]
  },
  {
   "cell_type": "code",
   "execution_count": null,
   "id": "cf800f09",
   "metadata": {},
   "outputs": [],
   "source": [
    "my_dict = {'a': 1, 'b': 2, 'c': 3}\n",
    "\n",
    "print(my_dict.items())\n",
    "\n",
    "for key, value in my_dict.items():\n",
    "    print(f\"key: {key}, value: {value}\")\n",
    "\n",
    "for item in my_dict.items():\n",
    "    print(f\"key: {item[0]}, value: {item[1]}\")\n",
    "\n",
    "# compare the outputs, they should be the same"
   ]
  },
  {
   "cell_type": "markdown",
   "id": "e7111300",
   "metadata": {},
   "source": [
    "Note that in the iterable that you are iterating over, each element should be a tuple of the same length."
   ]
  },
  {
   "cell_type": "code",
   "execution_count": null,
   "id": "03b0acc4",
   "metadata": {},
   "outputs": [],
   "source": [
    "uneven_list = [(1, 2), (3, 4, 5), (6,)]  # tuples of different lengths\n",
    "\n",
    "for x in uneven_list:\n",
    "    print(x)  # this works fine, prints out the whole tuple\n",
    "\n",
    "# uncomment one of the loops below to see the error\n",
    "\n",
    "# for x, y in uneven_list:\n",
    "#     print(f\"x: {x}, y: {y}\")  # this will raise an error eventually\n",
    "\n",
    "# for a, b, c in uneven_list:\n",
    "#     print(f\"a: {a}, b: {b}, c: {c}\")  # this will also raise an error eventually"
   ]
  },
  {
   "cell_type": "markdown",
   "id": "2e150313",
   "metadata": {},
   "source": [
    "# List comprehension\n",
    "\n",
    "List comprehension is a concise way to create lists in Python. It consists of brackets (`[]` for lists, `()` for tuples, `{}` for sets and dictionaries) containing an expression for each term, followed by a `for` clause:\n",
    "\n",
    "```python\n",
    "some_list = [something_with_element for element in range]\n",
    "\n",
    "# Example: Create a list of squares of numbers from 0 to 9\n",
    "squares = [x * x for x in range(10)]\n",
    "print(squares)\n",
    "```\n",
    "\n",
    "List comprehension is a shorter way to deal with list creation. The above example, using the basic techniques learnt previously (simple `for` loop and list methods) would look like this:\n",
    "\n",
    "```python\n",
    "squares = []\n",
    "for x in range(10):\n",
    "    squares.append(x * x)\n",
    "print(squares)\n",
    "```"
   ]
  },
  {
   "cell_type": "code",
   "execution_count": null,
   "id": "b4f06c2a",
   "metadata": {},
   "outputs": [],
   "source": [
    "# create a list of squares of numbers from 0 to 9\n",
    "squares = [x * x for x in range(10)]\n",
    "print(squares)\n",
    "print(type(squares))\n",
    "\n",
    "squares = []\n",
    "for x in range(10):\n",
    "    squares.append(x * x)\n",
    "print(squares)\n",
    "\n",
    "# compare the two outputs - they should be the same"
   ]
  },
  {
   "cell_type": "markdown",
   "id": "76c4be90",
   "metadata": {},
   "source": [
    "## With Tuples/Sets"
   ]
  },
  {
   "cell_type": "code",
   "execution_count": null,
   "id": "696e07f5",
   "metadata": {},
   "outputs": [],
   "source": [
    "# create a tuple of cubes of numbers from 0 to 9\n",
    "cubes = (x ** 3 for x in range(10))\n",
    "print(tuple(cubes)) # need to typecast to tuple to see the values\n",
    "print(type(cubes))\n",
    "\n",
    "# create a set of double of numbers from 0 to 9\n",
    "doubles = {x * 2 for x in range(10)}\n",
    "print(doubles)\n",
    "print(type(doubles))"
   ]
  },
  {
   "cell_type": "markdown",
   "id": "143b2805",
   "metadata": {},
   "source": [
    "## With other For clauses\n",
    "\n",
    "Any `for` clause works with list comprehension."
   ]
  },
  {
   "cell_type": "code",
   "execution_count": null,
   "id": "6dd71a0f",
   "metadata": {},
   "outputs": [],
   "source": [
    "nums = [4, 12, -2, 3, -23.5, 21, 88]\n",
    "\n",
    "negative_nums = [-n for n in nums]\n",
    "print(negative_nums)"
   ]
  },
  {
   "cell_type": "markdown",
   "id": "08620d1f",
   "metadata": {},
   "source": [
    "## With Dictionaries\n",
    "\n",
    "Dictionaries can be created or used in list comprehension\n",
    "\n",
    "```python\n",
    "new_dict = {key: value for ...} # key and value are decided by programmer\n",
    "```"
   ]
  },
  {
   "cell_type": "code",
   "execution_count": null,
   "id": "4b8c9d61",
   "metadata": {},
   "outputs": [],
   "source": [
    "values = [(1, 5), (2, 5), (3, 4)]\n",
    "\n",
    "# using tuple unpacking in the for loop:\n",
    "# k is the 1st value in each tuple, v is the 2nd value in each tuple\n",
    "# in the new dictionary, each key is str(k), each value is simply v\n",
    "new_dict = {str(k): v for k, v in values}\n",
    "print(new_dict)"
   ]
  },
  {
   "cell_type": "code",
   "execution_count": null,
   "id": "d96fcb9e",
   "metadata": {},
   "outputs": [],
   "source": [
    "my_dict = {\"name\": \"Prakamya\", \"age\": 19, \"city\": \"Singapore\"}\n",
    "\n",
    "vals = [my_dict[key] for key in my_dict]\n",
    "print(vals)\n",
    "# or\n",
    "vals = [v for v in my_dict.values()]\n",
    "print(vals)"
   ]
  },
  {
   "cell_type": "markdown",
   "id": "8e67ae26",
   "metadata": {},
   "source": [
    "## With simple conditions\n",
    "\n",
    "Simple checking can be done in list comprehension using an `if` clause after the `for` clause:\n",
    "\n",
    "```python\n",
    "new_list = [i for i in some_iterable if some_condition]\n",
    "\n",
    "# Example: get a list of squares of even numbers from 1 to 10\n",
    "even_squares = [x * x for x in range(1, 11) if x % 2 == 0]\n",
    "print(even_squares)\n",
    "```\n",
    "\n",
    "The above example can be reconstructed using simpler `if` clauses like learnt earlier, same as below:\n",
    "\n",
    "```python\n",
    "even_squares = []\n",
    "for x in range(1, 11):\n",
    "    if x % 2 == 0:\n",
    "        even_squares.append(x * x)\n",
    "print(even_squares)\n",
    "```"
   ]
  },
  {
   "cell_type": "code",
   "execution_count": null,
   "id": "bb933bd1",
   "metadata": {},
   "outputs": [],
   "source": [
    "# get a list of squares of even numbers from 1 to 10\n",
    "even_squares = [x * x for x in range(1, 11) if x % 2 == 0]\n",
    "print(even_squares)\n",
    "\n",
    "even_squares = []\n",
    "for x in range(1, 11):\n",
    "    if x % 2 == 0:\n",
    "        even_squares.append(x * x)\n",
    "print(even_squares)\n",
    "\n",
    "# compare the two outputs, they should be the same"
   ]
  },
  {
   "cell_type": "markdown",
   "id": "6ab4b009",
   "metadata": {},
   "source": [
    "## Peak Pythonic Programming\n",
    "\n",
    "Given a list of numbers, we want to create a new list out of it.\n",
    "\n",
    "For each number in the original list:\n",
    " * If the number is negative, make it positive (multiply by -1)\n",
    " * If the number is already positive but odd, do not include it in the new list\n",
    " * If the number is already positive but even, square it\n",
    "\n",
    "And finally, remove duplicates from the resulting list (hint: use sets).\n",
    "\n",
    "### Example:\n",
    "Initial list: `[1, -3, -5, 8, 10, 2]`\n",
    " * 1 is positive and odd: ignore it\n",
    " * -3 is negative: make it positive -> 3\n",
    " * -4 is negative: make it positive -> 4\n",
    " * 8 is positive and even: square it -> 64\n",
    " * 10 is positive and even: square it -> 100\n",
    " * 2 is positive and even: square it -> 4\n",
    "Result: `[3, 4, 64, 100, 4]`\n",
    "\n",
    "Remove duplicates to get final result: `[3, 4, 64, 100]`"
   ]
  },
  {
   "cell_type": "code",
   "execution_count": null,
   "id": "721a5f84",
   "metadata": {},
   "outputs": [],
   "source": [
    "initial_list = [1, -3, -5, 8, 10, 2]\n",
    "\n",
    "# simple way:\n",
    "final = set() # result is a set to avoid duplicates\n",
    "for value in initial_list:\n",
    "    if value < 0: # if the value is negative,\n",
    "        final.add(-value) # make it positive\n",
    "    elif value % 2 == 0: # else if the value is even,\n",
    "        final.add(value * value) # square it\n",
    "    # otherwise ignore and move on\n",
    "print(final)\n",
    "\n",
    "# using list comprehension:\n",
    "final = {-value if value < 0 else value * value for value in initial_list if value % 2 == 0 or value < 0}\n",
    "# is your head spinning yet? take some to understand whats going on :)\n",
    "print(final)\n",
    "\n",
    "# compare the two outputs, they should be the same"
   ]
  }
 ],
 "metadata": {
  "kernelspec": {
   "display_name": "Python 3",
   "language": "python",
   "name": "python3"
  },
  "language_info": {
   "codemirror_mode": {
    "name": "ipython",
    "version": 3
   },
   "file_extension": ".py",
   "mimetype": "text/x-python",
   "name": "python",
   "nbconvert_exporter": "python",
   "pygments_lexer": "ipython3",
   "version": "3.14.0"
  }
 },
 "nbformat": 4,
 "nbformat_minor": 5
}
