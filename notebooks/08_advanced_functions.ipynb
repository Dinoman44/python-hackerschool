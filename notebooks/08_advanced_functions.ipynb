{
 "cells": [
  {
   "cell_type": "markdown",
   "id": "2d736ae5",
   "metadata": {},
   "source": [
    "# Lambda Functions\n",
    "\n",
    "These are short functions defined using the `lambda` keyword. They can take any number of arguments but can only have a single expression.\n",
    "\n",
    "Lambda functions are defined as follows:\n",
    "\n",
    "```python\n",
    "lambda arguments: expression\n",
    "# equivalent to\n",
    "def function_name(arguments):\n",
    "    return expression\n",
    "```\n",
    "\n",
    "For example, a lambda function that adds two numbers can be defined as:\n",
    "\n",
    "```python\n",
    "add = lambda x, y: x + y\n",
    "\n",
    "# the above is same as:\n",
    "def add(x, y):\n",
    "    return x + y\n",
    "\n",
    "result = add(3, 5)\n",
    "```"
   ]
  },
  {
   "cell_type": "code",
   "execution_count": null,
   "id": "b7bbb82e",
   "metadata": {},
   "outputs": [],
   "source": [
    "add = lambda x, y: x + y\n",
    "print(add(3, 5))  # prints 8\n",
    "\n",
    "mult = lambda x, y: x * y\n",
    "print(mult(4, 6))  # prints 24\n",
    "\n",
    "square = lambda x: x * x\n",
    "print(square(7))  # prints 49\n",
    "\n",
    "# declare and use a lambda function without assigning it to anything\n",
    "print((lambda x, y: x - y)(10, 4))  # prints 6"
   ]
  },
  {
   "cell_type": "code",
   "execution_count": null,
   "id": "4dea46e2",
   "metadata": {},
   "outputs": [],
   "source": [
    "# the above lambdas are equivalent to the following functions:\n",
    "def add_func(x, y):\n",
    "    return x + y\n",
    "\n",
    "def mult_func(x, y):\n",
    "    return x * y\n",
    "\n",
    "def square_func(x):\n",
    "    return x * x\n",
    "\n",
    "def subtract_func(x, y):\n",
    "    return x - y\n",
    "\n",
    "print(add_func(3, 5))      # prints 8\n",
    "print(mult_func(4, 6))     # prints 24\n",
    "print(square_func(7))      # prints 49\n",
    "print(subtract_func(10, 4))  # prints 6"
   ]
  },
  {
   "cell_type": "markdown",
   "id": "627458a7",
   "metadata": {},
   "source": [
    "# Variable Arguments (varargs)\n",
    "\n",
    "Sometimes, you may want to define a function that can accept a variable number of arguments. This can be achieved using `*args` for positional arguments.\n",
    "\n",
    "Many python functions use this technique, for example, the built-in `print()` function can take any number of arguments.\n",
    "\n",
    "```python\n",
    "print(\"Hello\", \"world!\", 42) # this prints \"Hello world! 42\": each argument is printed, separated by a space\n",
    "```\n",
    "\n",
    "You can define your own functions that accept variable numbers of arguments using `*args`:\n",
    "\n",
    "```python\n",
    "def my_function(*args):\n",
    "    # treat args as an iterable\n",
    "    for arg in args:\n",
    "        # do something\n",
    "```"
   ]
  },
  {
   "cell_type": "code",
   "execution_count": null,
   "id": "7a20d1eb",
   "metadata": {},
   "outputs": [],
   "source": [
    "def my_sum(*nums):\n",
    "    total = 0\n",
    "    for num in nums:\n",
    "        total += num\n",
    "    return total\n",
    "\n",
    "print(my_sum(1, 2, 3, 4, 5))  # prints 15\n",
    "\n",
    "# note: Python provides a built-in sum() function, hence the different name (my_sum)\n",
    "print(sum([1, 2, 3, 4, 5]))  # sum() does not use varargs, and requires an explicit iterable"
   ]
  },
  {
   "cell_type": "markdown",
   "id": "6339f905",
   "metadata": {},
   "source": [
    "# Keyword vs Positional Arguments\n",
    "\n",
    "In Python, functions can accept arguments in two ways: positional arguments and keyword arguments.\n",
    "\n",
    "Positional arguments are arguments that are passed to a function based on their position. For example:\n",
    "\n",
    "```python\n",
    "def greet(name, age):\n",
    "    print(f\"Hello, my name is {name} and I am {age} years old.\")\n",
    "\n",
    "greet(\"Alice\", 30)  # name is \"Alice\", age is 30\n",
    "```\n",
    "\n",
    "Keyword arguments are arguments that are passed to a function using the name of the parameter. For example:\n",
    "\n",
    "```python\n",
    "greet(age=30, name=\"Alice\")  # name is \"Alice\", age is 30\n",
    "```\n",
    "\n",
    "Arguments can be positional or keyword, and you can mix them when calling a function. However, positional arguments must come _before_ keyword arguments."
   ]
  },
  {
   "cell_type": "code",
   "execution_count": null,
   "id": "45ff593d",
   "metadata": {},
   "outputs": [],
   "source": [
    "def greet(name, age):\n",
    "    print(f\"Hello, my name is {name} and I am {age} years old.\")\n",
    "\n",
    "greet(\"Alice\", 30)\n",
    "greet(age=25, name=\"Bob\")  # using keyword arguments, position doesn't matter\n",
    "greet(\"Charlie\", age=22)  # mixing positional and keyword arguments\n",
    "# greet(28, name=\"Diana\") # incorrect: name comes first but name=28 AND name=\"Diana\" so there is a clash"
   ]
  },
  {
   "cell_type": "markdown",
   "id": "39ca778d",
   "metadata": {},
   "source": [
    "## Positional-only arguments\n",
    "\n",
    "You may want to prevent a programmer from using keyword arguments for certain parameters. You can do this by using the `/` symbol in the function definition to indicate that all parameters **_before_** it are positional-only.\n",
    "\n",
    "```python\n",
    "def func(a, b, /, c, d):\n",
    "    pass\n",
    "```\n",
    "\n",
    "In this example, `a` and `b` are positional-only parameters, while `c` and `d` can be passed as either positional or keyword arguments."
   ]
  },
  {
   "cell_type": "code",
   "execution_count": null,
   "id": "a4b28802",
   "metadata": {},
   "outputs": [],
   "source": [
    "def greet(name, /, age):\n",
    "    # name is positional-only: cannot be passed as a keyword argument\n",
    "    print(f\"Hello, my name is {name} and I am {age} years old.\")\n",
    "\n",
    "greet(\"Eve\", 28)  # valid\n",
    "greet(\"Frank\", age=35)  # valid\n",
    "greet(name=\"Grace\", age=40)  # invalid: name is positional-only"
   ]
  },
  {
   "cell_type": "code",
   "execution_count": null,
   "id": "ddca243e",
   "metadata": {},
   "outputs": [],
   "source": [
    "# a built-in Python function with positional-only arguments\n",
    "print(max([3, 1, 4, 1, 5, 9]))  # valid\n",
    "# print(max(iterable=[3, 1, 4, 1, 5, 9]))  # invalid: iterable is positional-only"
   ]
  },
  {
   "cell_type": "markdown",
   "id": "7daab04a",
   "metadata": {},
   "source": [
    "## Keyword-only arguments\n",
    "\n",
    "You can also enforce that certain parameters can only be passed as keyword arguments by using the `*` symbol in the function definition. All parameters **_after_** `*` are keyword-only.\n",
    "\n",
    "```python\n",
    "def func(a, b, *, c, d):\n",
    "    pass\n",
    "```"
   ]
  },
  {
   "cell_type": "code",
   "execution_count": null,
   "id": "c90e5f08",
   "metadata": {},
   "outputs": [],
   "source": [
    "def greet(name, age, *, country):\n",
    "    # country is keyword-only: must be passed as a keyword argument\n",
    "    print(f\"Hello, my name is {name}, I am {age} years old and I am from {country}.\")\n",
    "\n",
    "greet(\"Hannah\", 27, country=\"USA\")  # valid\n",
    "# greet(\"Ian\", 32, \"Canada\")  # invalid: country must be a keyword argument"
   ]
  },
  {
   "cell_type": "code",
   "execution_count": null,
   "id": "a8d6c9b4",
   "metadata": {},
   "outputs": [],
   "source": [
    "# a built-in Python function with keyword-only arguments\n",
    "my_list = [5, 2, 9, 1]\n",
    "my_list.sort(reverse=True)  # valid\n",
    "my_list.sort(True)  # invalid: reverse is keyword-only\n",
    "\n",
    "print(my_list)  # prints [9, 5, 2, 1]"
   ]
  },
  {
   "cell_type": "markdown",
   "id": "aebf8093",
   "metadata": {},
   "source": [
    "### Combining positional-only, positional-or-keyword, and keyword-only arguments"
   ]
  },
  {
   "cell_type": "code",
   "execution_count": null,
   "id": "c4ad3873",
   "metadata": {},
   "outputs": [],
   "source": [
    "def my_function(a, b, /, c, d, *, e, f):\n",
    "    # a and b are positional-only\n",
    "    # c and d are positional-or-keyword\n",
    "    # e and f are keyword-only\n",
    "    print(f\"a: {a}, b: {b}, c: {c}, d: {d}, e: {e}, f: {f}\")\n",
    "\n",
    "my_function(1, 2, 3, d=4, e=5, f=6)  # valid\n",
    "# my_function(a=1, b=2, c=3, d=4, e=5, f=6)  # invalid: a and b are positional-only\n",
    "# my_function(1, 2, 3, 4, 5, 6)  # invalid: e and f are keyword-only\n",
    "my_function(1, 2, c=3, d=4, e=5, f=6)  # valid"
   ]
  },
  {
   "cell_type": "markdown",
   "id": "017c02ec",
   "metadata": {},
   "source": [
    "# Variable Keyword Arguments (kwargs)\n",
    "\n",
    "In addition to `*args` for variable positional arguments, Python also provides `**kwargs` for variable keyword arguments. This allows you to pass a variable number of keyword arguments to a function.\n",
    "\n",
    "```python\n",
    "def my_function(**kwargs):\n",
    "    # treat kwargs as a dictionary\n",
    "    for key, value in kwargs.items():\n",
    "        print(f\"{key}: {value}\")\n",
    "```"
   ]
  },
  {
   "cell_type": "code",
   "execution_count": null,
   "id": "72ca41bd",
   "metadata": {},
   "outputs": [],
   "source": [
    "def my_function(**kwargs):\n",
    "    # treat kwargs as a dictionary\n",
    "    for key, value in kwargs.items():\n",
    "        print(f\"{key}: {value}\")\n",
    "\n",
    "my_function(name=\"Jack\", age=29, country=\"UK\")"
   ]
  },
  {
   "cell_type": "markdown",
   "id": "8517f87c",
   "metadata": {},
   "source": [
    "# Multiple Returns\n",
    "\n",
    "In Python, a function can return multiple values by returning them as a tuple. This allows you to easily return several related values from a single function call.\n",
    "\n",
    "```python\n",
    "def get_user_info():\n",
    "    name = \"Prakamya\"\n",
    "    age = 19\n",
    "    return name, age\n",
    "\n",
    "user_info = get_user_info()\n",
    "print(user_info)\n",
    "```"
   ]
  },
  {
   "cell_type": "code",
   "execution_count": null,
   "id": "9d2880b6",
   "metadata": {},
   "outputs": [],
   "source": [
    "def get_user_info():\n",
    "    name = \"Prakamya\"\n",
    "    age = 19\n",
    "    return name, age # returned as a tuple, (name, age,)\n",
    "\n",
    "user_info = get_user_info()\n",
    "print(user_info)\n",
    "print(type(user_info))"
   ]
  },
  {
   "cell_type": "markdown",
   "id": "178770aa",
   "metadata": {},
   "source": [
    "## Combine with Tuple Assignment\n",
    "\n",
    "You can use tuple assignment (mentioned in [00_basic.ipynb](./00_basic.ipynb)) to \"unpack\" the returned tuple into separate variables:"
   ]
  },
  {
   "cell_type": "code",
   "execution_count": null,
   "id": "9dc6cb4f",
   "metadata": {},
   "outputs": [],
   "source": [
    "def get_user_info():\n",
    "    name = \"Prakamya\"\n",
    "    age = 19\n",
    "    return name, age\n",
    "\n",
    "name, age = get_user_info()  # unpacking the returned tuple\n",
    "print(f\"Name: {name}, Age: {age}\")\n",
    "\n",
    "# other option\n",
    "user_info = get_user_info()\n",
    "name = user_info[0]\n",
    "age = user_info[1]\n",
    "print(f\"Name: {name}, Age: {age}\")"
   ]
  },
  {
   "cell_type": "markdown",
   "id": "d6a1baf1",
   "metadata": {},
   "source": [
    "# Type Hints\n",
    "\n",
    "A function takes in some arguments and returns a value. You can specify the expected types of the arguments and the return type using type hints.\n",
    "\n",
    "```python\n",
    "def my_func(arg1: arg1_type, arg2: arg2_type) -> return_type:\n",
    "    # function body\n",
    "```\n",
    "\n",
    "These type hints do NOT enforce type-checking. They are mainly for documentation and can be used by static type checkers, IDEs, and linters to help catch potential type-related errors in your code.\n",
    "\n",
    "They can be used along with [Pydantic](https://docs.pydantic.dev/latest/) (or other type validation libraries) to enforce type-checking at runtime."
   ]
  },
  {
   "cell_type": "code",
   "execution_count": null,
   "id": "657ff87b",
   "metadata": {},
   "outputs": [],
   "source": [
    "def add_ints(x: int, y: int) -> int:\n",
    "    return x + y\n",
    "\n",
    "print(add_ints(3, 5))\n",
    "\n",
    "# even though we specified int, Python won't enforce it:\n",
    "print(add_ints(\"Hello, \", \"World!\"))\n",
    "print(add_ints(3.4, 5.6))"
   ]
  },
  {
   "cell_type": "markdown",
   "id": "a304b56f",
   "metadata": {},
   "source": [
    "If you are using VS Code with the Pylance extension, it can use these type hints to provide better autocompletion and error checking while you code.\n",
    "\n",
    "Hover over the `add_ints` function above to see the type hints! _(Pylance extension must be installed)_"
   ]
  },
  {
   "cell_type": "markdown",
   "id": "ada8e9e2",
   "metadata": {},
   "source": [
    "## Typing module\n",
    "\n",
    "This in-built Python module can be imported to provide additional type hints like `List`, `Dict`, `Tuple`, etc.\n",
    "\n",
    "[Documentation](https://docs.python.org/3/library/typing.html)."
   ]
  },
  {
   "cell_type": "code",
   "execution_count": null,
   "id": "c9468b8d",
   "metadata": {},
   "outputs": [],
   "source": [
    "from typing import Any, Dict, List, Tuple\n",
    "\n",
    "# take a list of integers and return their sum\n",
    "def my_sum(nums: List[int]) -> int:\n",
    "    total: int = 0 # type hints can be used for variables too\n",
    "    for num in nums:\n",
    "        total += num\n",
    "    return total\n",
    "\n",
    "print(my_sum([1, 2, 3, 4, 5]))\n",
    "\n",
    "# Tuple is very useful for multiple return types\n",
    "def get_user_info() -> Tuple[str, int]:\n",
    "    name = \"Alice\"\n",
    "    age = 30\n",
    "    return name, age\n",
    "\n",
    "n, a = get_user_info()\n",
    "print(f\"Name: {n}, Age: {a}\")\n",
    "\n",
    "# dictionary that has string keys and integer values is represented as Dict[str, int]\n",
    "def get_values_from_dictionary(d: Dict[str, int]) -> List[int]:\n",
    "    return list(d.values())\n",
    "\n",
    "my_dict = {\"a\": 1, \"b\": 2, \"c\": 3}\n",
    "values = get_values_from_dictionary(my_dict)\n",
    "print(values)\n",
    "\n",
    "# list can contain any type, and function returns nothing (None)\n",
    "def print_items(items: List[Any]) -> None:\n",
    "    for item in items:\n",
    "        print(item)\n",
    "\n",
    "print_items([1, \"two\", 3.0, [4], {\"five\": 5}])"
   ]
  },
  {
   "cell_type": "markdown",
   "id": "64d2253e",
   "metadata": {},
   "source": [
    "# Docstrings\n",
    "\n",
    "Docstrings are special strings that are used to document functions, classes, and modules in Python. They are enclosed in triple quotes (`\"\"\"` or `'''`) and are placed immediately after the function, class, or module definition.\n",
    "\n",
    "Triple quotes in Python allow strings to span multiple lines, making them ideal for writing detailed documentation.\n",
    "\n",
    "```python\n",
    "def my_function(param1, param2):\n",
    "    \"\"\"\n",
    "    This is a docstring that describes what the function does.\n",
    "    It can span multiple lines and provide detailed information\n",
    "    about the function's parameters, return values, and behavior.\n",
    "\n",
    "    Args:\n",
    "        param1 (type): Description of param1.\n",
    "        param2 (type): Description of param2.\n",
    "    \n",
    "    Returns:\n",
    "        type: Description of the return value.\n",
    "    \"\"\"\n",
    "    # something\n",
    "```"
   ]
  },
  {
   "cell_type": "code",
   "execution_count": null,
   "id": "326531e7",
   "metadata": {},
   "outputs": [],
   "source": [
    "from numbers import Number # not from Typing module\n",
    "\n",
    "# need to create my own type because typing module does not have a built-in Number type\n",
    "\n",
    "def sum_and_product(nums: List[Number]) -> Tuple[Number, Number]:\n",
    "    \"\"\"\n",
    "    Returns the sum and product of a list of numbers.\n",
    "\n",
    "    Args:\n",
    "        nums (List[Number]): A list of numbers.\n",
    "\n",
    "    Returns:\n",
    "        (Tuple[Number, Number]): The sum and product of the numbers in the list.\n",
    "    \"\"\"\n",
    "    total, product = 0, 1\n",
    "    for num in nums:\n",
    "        total += num\n",
    "        product *= num\n",
    "    return total, product"
   ]
  },
  {
   "cell_type": "markdown",
   "id": "cddfb685",
   "metadata": {},
   "source": [
    "Hover over the `sum_and_product` function above to see the docstring!\n",
    "\n",
    "Docstrings exist for most well-defined functions in Python. Check out the docstrings for the built-in `len()` and `print()` functions by hovering over them in your IDE."
   ]
  },
  {
   "cell_type": "code",
   "execution_count": null,
   "id": "b1b58784",
   "metadata": {},
   "outputs": [],
   "source": [
    "# not using () on a function name so we don't call the function but just reference it\n",
    "# hover over the function name to see the docstrings as well as type hints for the function\n",
    "len\n",
    "print"
   ]
  }
 ],
 "metadata": {
  "kernelspec": {
   "display_name": "Python 3",
   "language": "python",
   "name": "python3"
  },
  "language_info": {
   "codemirror_mode": {
    "name": "ipython",
    "version": 3
   },
   "file_extension": ".py",
   "mimetype": "text/x-python",
   "name": "python",
   "nbconvert_exporter": "python",
   "pygments_lexer": "ipython3",
   "version": "3.14.0"
  }
 },
 "nbformat": 4,
 "nbformat_minor": 5
}
