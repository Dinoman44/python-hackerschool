{
 "cells": [
  {
   "cell_type": "markdown",
   "id": "ad0c6072",
   "metadata": {},
   "source": [
    "## String methods\n",
    "\n",
    "These are methods that can be called on string objects to perform various operations.\n",
    "\n",
    "Check out this [comprehensive list of string methods](https://docs.python.org/3/library/stdtypes.html#string-methods) in the official Python documentation for more details.\n",
    "\n",
    "_Note that string methods do not modify the original string; they return a new string with the modifications._\n",
    "\n",
    "String methods are called using the dot notation:\n",
    "```python\n",
    "some_string = ...\n",
    "\n",
    "modified_string = some_string.method_name(arguments)\n",
    "```"
   ]
  },
  {
   "cell_type": "code",
   "execution_count": null,
   "id": "c3e811a0",
   "metadata": {},
   "outputs": [],
   "source": [
    "# Exercise: what do each of these methods do? Read the docs (or play around with the methods) to find out\n",
    "\n",
    "my_string = \"HHHelloo world! \"\n",
    "\n",
    "# character removal methods\n",
    "print(\"Character removal methods:\")\n",
    "print(my_string.rstrip())\n",
    "print(my_string.lstrip(\"H\"))\n",
    "print(my_string.strip(\" H!\"))\n",
    "\n",
    "print(my_string) # original string is unchanged"
   ]
  },
  {
   "cell_type": "code",
   "execution_count": null,
   "id": "14332278",
   "metadata": {},
   "outputs": [],
   "source": [
    "my_string = \"HHHelloo world! \"\n",
    "\n",
    "# case conversion methods\n",
    "print(\"Case conversion methods:\")\n",
    "print(my_string.upper())\n",
    "print(my_string.lower())\n",
    "print(my_string.title())\n",
    "print(my_string.swapcase())\n",
    "\n",
    "print(my_string) # original string is unchanged"
   ]
  },
  {
   "cell_type": "code",
   "execution_count": null,
   "id": "41975229",
   "metadata": {},
   "outputs": [],
   "source": [
    "my_string = \"32 Hello\"\n",
    "\n",
    "# string checking methods\n",
    "print(\"String checking methods:\")\n",
    "print(my_string.isalpha())\n",
    "print(my_string.isdigit())\n",
    "print(my_string.islower())\n",
    "print(my_string.isupper())\n",
    "print(my_string.isspace())\n",
    "print(my_string.isnumeric())\n",
    "print(my_string.isalnum())\n",
    "\n",
    "print(my_string) # original string is unchanged"
   ]
  },
  {
   "cell_type": "code",
   "execution_count": null,
   "id": "ce33a610",
   "metadata": {},
   "outputs": [],
   "source": [
    "my_string = \"Hello world!\"\n",
    "\n",
    "# prefix and suffix checking methods\n",
    "print(\"Prefix and suffix checking methods:\")\n",
    "print(my_string.startswith(\"Hello\"))\n",
    "print(my_string.endswith(\"world!\"))\n",
    "\n",
    "print(my_string) # original string is unchanged"
   ]
  },
  {
   "cell_type": "code",
   "execution_count": null,
   "id": "1ffe9c16",
   "metadata": {},
   "outputs": [],
   "source": [
    "my_string = \"Hellooooo world!\"\n",
    "\n",
    "# counting and finding methods\n",
    "print(\"Counting and finding methods:\")\n",
    "print(my_string.count(\"o\"))\n",
    "print(my_string.find(\"o\"))\n",
    "print(my_string.index(\"o\"))\n",
    "print(my_string.find(\"x\"))\n",
    "# print(my_string.index(\"x\")) # uncomment this and see what happens\n",
    "\n",
    "# replace method\n",
    "print(\"Replace method:\")\n",
    "print(my_string.replace(\"world\", \"there\"))\n",
    "print(my_string.replace(\"o\", \"00000\", 2))\n",
    "print(my_string.replace(\"hi\", \"bye\"))\n",
    "\n",
    "print(my_string) # original string is unchanged"
   ]
  },
  {
   "cell_type": "code",
   "execution_count": null,
   "id": "3d914138",
   "metadata": {},
   "outputs": [],
   "source": [
    "# string-to-list and back\n",
    "print(\"String-to-list and back:\")\n",
    "my_string = \"Hello world! This is a test.\"\n",
    "words = my_string.split(\" \") # what does this do?\n",
    "print(words)\n",
    "rejoined = \"-\".join(words) # what does this do?\n",
    "print(rejoined)\n",
    "\n",
    "print(my_string) # original string is unchanged"
   ]
  },
  {
   "cell_type": "markdown",
   "id": "6f2a77ef",
   "metadata": {},
   "source": [
    "## F-Strings\n",
    "\n",
    "You may sometimes need to plug in variable values into a string.\n",
    "\n",
    "One way is using string concatenation:\n",
    "\n",
    "```python\n",
    "name = \"Alice\"\n",
    "greeting = \"Hello, \" + name + \"!\"\n",
    "print(greeting)\n",
    "```\n",
    "\n",
    "However, if the variables are not strings, then you need to explicitly convert them using the `str()` function:\n",
    "\n",
    "```python\n",
    "x = 10\n",
    "y = 20\n",
    "sum_string = \"The sum of \" + str(x) + \" and \" + str(y) + \" is \" + str(x + y) + \".\"\n",
    "```\n",
    "\n",
    "Python provides f-strings (formatted string literals) to make this easier:\n",
    "\n",
    "Prefix the string quotation marks with `f`. When you want to insert a variable or expression, enclose it in curly braces `{}` within the string. \n",
    "\n",
    "```python\n",
    "x = 10\n",
    "y = 20\n",
    "sum_string = f\"The sum of {x} and {y} is {x + y}.\"\n",
    "print(sum_string)\n",
    "```"
   ]
  },
  {
   "cell_type": "code",
   "execution_count": null,
   "id": "9c3a5561",
   "metadata": {},
   "outputs": [],
   "source": [
    "x = 10\n",
    "y = 20\n",
    "sum_string = f\"The sum of {x} and {y} is {x + y}.\"\n",
    "print(sum_string)"
   ]
  },
  {
   "cell_type": "markdown",
   "id": "ef3effca",
   "metadata": {},
   "source": [
    "### Explicit Formatted Strings\n",
    "\n",
    "If all the variables values to be inserted are pre-computed and named, you can also use the `str.format()` method:\n",
    "\n",
    "```python\n",
    "x = 10\n",
    "y = 20\n",
    "s = x + y\n",
    "sum_string = \"The sum of {x} and {y} is {s}.\".format(x=x, y=y, s=s)\n",
    "print(sum_string)\n",
    "```"
   ]
  },
  {
   "cell_type": "code",
   "execution_count": null,
   "id": "d6b79ab0",
   "metadata": {},
   "outputs": [],
   "source": [
    "x = 10\n",
    "y = 20\n",
    "s = x + y\n",
    "sum_string = \"The sum of {x} and {y} is {s}.\".format(x=x, y=y, s=s)\n",
    "print(sum_string)"
   ]
  },
  {
   "cell_type": "markdown",
   "id": "264f95d5",
   "metadata": {},
   "source": [
    "### Escaping `{}`\n",
    "`{}` in an f-string are interepreted as placeholders. But you may want to have the actual curly brace characters in the string. To do so, double them up:\n",
    "\n",
    "```python\n",
    "value = 42\n",
    "print(f\"The value is {{ {value} }}\") # doubled-up curly braces are interepreted as single literal curly braces\n",
    "```"
   ]
  },
  {
   "cell_type": "code",
   "execution_count": null,
   "id": "120b3854",
   "metadata": {},
   "outputs": [],
   "source": [
    "value = 42\n",
    "print(f\"The value is {{ {value} }}\")\n",
    "\n",
    "# be careful with escaping curly braces!\n",
    "print(f\"The value is {{value}}\")\n",
    "print(f\"The value is { {value} }\")"
   ]
  },
  {
   "cell_type": "markdown",
   "id": "89babe5d",
   "metadata": {},
   "source": [
    "## Special characters\n",
    "\n",
    "Special characters (or escape characters) are represented by a backslash `\\` followed by a character. Here are some common special characters:\n",
    " * `\\'` - Single quote\n",
    " * `\\\"` - Double quote\n",
    " * `\\\\` - Backslash\n",
    " * `` - Newline\n",
    " * `\\t` - Tab\n",
    " * `\\b` - Backspace"
   ]
  },
  {
   "cell_type": "code",
   "execution_count": null,
   "id": "0c3a3469",
   "metadata": {},
   "outputs": [],
   "source": [
    "print(\"HelloWorld!\") # world is printed on the next line\n",
    "print(\"Hello\\tWorld!\") # tab space between Hello and World (like pressing the tab key)\n",
    "print(\"This is a backslash: \\\\\") # prints a single backslash\n",
    "print(\"He said, \\\"It's a lovely day!\\\"\") # nested quotes need to be escaped!\n",
    "print(\"Hi \\bthere!\") # backspace removes the character before it"
   ]
  }
 ],
 "metadata": {
  "kernelspec": {
   "display_name": ".venv (3.12.10)",
   "language": "python",
   "name": "python3"
  },
  "language_info": {
   "codemirror_mode": {
    "name": "ipython",
    "version": 3
   },
   "file_extension": ".py",
   "mimetype": "text/x-python",
   "name": "python",
   "nbconvert_exporter": "python",
   "pygments_lexer": "ipython3",
   "version": "3.12.10"
  }
 },
 "nbformat": 4,
 "nbformat_minor": 5
}
