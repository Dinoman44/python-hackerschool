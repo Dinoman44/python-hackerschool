{
 "cells": [
  {
   "cell_type": "markdown",
   "id": "d1f99fa3",
   "metadata": {},
   "source": [
    "# Iterables\n",
    "\n",
    "Iterables are collections of values that allow a programmer to access each value one at a time. Common examples of iterables in Python include lists, tuples, strings, and dictionaries.\n",
    "\n",
    "Strings are iterables.\n",
    "\n",
    "### Mutability\n",
    "A value or data structure is considered mutable if it can be \"changed\" after it has been created.\n",
    "\n",
    "A \"change\" could mean:\n",
    "- Modifying an existing element\n",
    "- Adding new elements\n",
    "- Removing elements\n",
    "- Changing the ordering of elements\n",
    "\n",
    "If any of the above actions are possible on a data structure, then it is considered mutable.\n",
    "\n",
    "### Ordering\n",
    "\n",
    "Some collections/iterables maintain the order of their elements, while others do not.\n",
    "\n",
    "Iterables that maintain their order return the exact same sequence of elements every time they are iterated over.\n",
    "\n",
    "Iterables that do not maintain their order may return elements in different sequences each time they are iterated over."
   ]
  },
  {
   "cell_type": "markdown",
   "id": "cdee1323",
   "metadata": {},
   "source": [
    "## Strings\n",
    "\n",
    "As seen before, strings are sequences of characters. They are ordered and immutable.\n",
    "\n",
    "- Ordered\n",
    "- Immutable\n",
    "\n",
    "```python\n",
    "my_string = \"Hello, World!\"\n",
    "```"
   ]
  },
  {
   "cell_type": "markdown",
   "id": "628704f1",
   "metadata": {},
   "source": [
    "## Lists\n",
    "\n",
    "Simply a list of values. The values in the list can be of any data type.\n",
    "\n",
    "- Ordered\n",
    "- Mutable\n",
    "\n",
    "```python\n",
    "my_list = [1, 2, 3, \"hello\", 4.5]\n",
    "```"
   ]
  },
  {
   "cell_type": "markdown",
   "id": "99f99d09",
   "metadata": {},
   "source": [
    "## Tuples\n",
    "\n",
    "Tuples are similar to lists, but they are immutable. Once a tuple is created, its elements cannot be changed, added, or removed.\n",
    "\n",
    "- Ordered\n",
    "- Immutable\n",
    "\n",
    "```python\n",
    "my_tuple = (1, 2, 3, \"hello\", 4.5,) # the leading comma is not necessary but explicitly defines tuples\n",
    "```"
   ]
  },
  {
   "cell_type": "markdown",
   "id": "5cb1dc5a",
   "metadata": {},
   "source": [
    "## Sets\n",
    "\n",
    "Sets are collections of unique values. They do not maintain any specific order of elements. They have similar properties to mathematical sets.\n",
    "\n",
    "- Unordered\n",
    "- Mutable\n",
    "\n",
    "```python\n",
    "my_set = {1, 2, 3, \"hello\", 4.5}    \n",
    "```"
   ]
  },
  {
   "cell_type": "markdown",
   "id": "15c01bb1",
   "metadata": {},
   "source": [
    "## Dictionaries\n",
    "\n",
    "Dictionaries are collections of key-value pairs. Each key is unique and maps to a specific value. Dictionaries do not maintain any specific order of elements.\n",
    "\n",
    "- Unordered\n",
    "- Mutable\n",
    "\n",
    "```python\n",
    "my_dict = {\"university\": \"NUS\", \"major\": \"CS\", \"is_graduating\": False}\n",
    "```"
   ]
  },
  {
   "cell_type": "code",
   "execution_count": null,
   "id": "9a89304f",
   "metadata": {},
   "outputs": [],
   "source": [
    "my_list = [1, 2, 3, 4, 5]\n",
    "my_tuple = (1, 2, 3, 4, 5)\n",
    "my_set = {1, 2, 3, 4, 5}\n",
    "my_string = \"Hello, World!\"\n",
    "my_dict = {\"name\": \"Prakamya\", \"age\": 19, \"city\": \"Singapore\"}\n",
    "\n",
    "print(type(my_list))\n",
    "print(type(my_tuple))\n",
    "print(type(my_set))\n",
    "print(type(my_string))\n",
    "print(type(my_dict))"
   ]
  },
  {
   "cell_type": "markdown",
   "id": "f27e8e4a",
   "metadata": {},
   "source": [
    "## Length\n",
    "\n",
    "To get the number of elements in any iterable, you can use the built-in `len()` function.\n",
    "\n",
    "```python\n",
    "my_list = [10, 20, 30, 40, 50]\n",
    "print(len(my_list))  # Output: 5\n",
    "```"
   ]
  },
  {
   "cell_type": "code",
   "execution_count": null,
   "id": "84ed4155",
   "metadata": {},
   "outputs": [],
   "source": [
    "my_list = [10, 20, 30, 40, 50, 60, 70, 80, 90, 100]\n",
    "my_string = \"Python Python\"\n",
    "my_set = {\"a\", \"b\", \"c\", \"d\", \"e\"}\n",
    "my_tuple = (5, 10, 15, 20, 25)\n",
    "my_dict = {\"x\": 1, \"y\": 2, \"z\": False}\n",
    "\n",
    "print(len(my_list))   # Output: 10\n",
    "print(len(my_string))  # Output: 13\n",
    "print(len(my_set))    # Output: 5\n",
    "print(len(my_tuple))  # Output: 5\n",
    "print(len(my_dict))   # Output: 3"
   ]
  },
  {
   "cell_type": "markdown",
   "id": "a040f4a0",
   "metadata": {},
   "source": [
    "## Indexing\n",
    "\n",
    "Ordered iterables support indexing to access individual elements.\n",
    "\n",
    "Python uses 0-indexing, meaning the first element is at index 0, the second at index 1, and so on.\n",
    "\n",
    "Indexes are represented by integers within square brackets `[]`.\n",
    "\n",
    "```python\n",
    "my_list = [10, 20, 30, 40, 50]\n",
    "print(my_list[0])  # 0-th index of my_list is 10\n",
    "print(my_list[1])  # 1-th index of my_list is 20\n",
    "```\n",
    "\n",
    "### Dictionaries\n",
    "\n",
    "Dictionaries do not support indexing since they are unordered collections of key-value pairs. Instead, you access values using their corresponding keys.\n",
    "\n",
    "Keys are placed within square brackets `[]` to retrieve their associated values.\n",
    "\n",
    "```python\n",
    "my_dict = {\"name\": \"Prakamya\", \"age\": 19, \"city\": \"Singapore\"}\n",
    "print(my_dict[\"name\"])  # value associated with key \"name\" is \"Prakamya\"\n",
    "print(my_dict[\"age\"])   # value associated with key \"age\" is 19\n",
    "```"
   ]
  },
  {
   "cell_type": "code",
   "execution_count": null,
   "id": "ccd5154f",
   "metadata": {},
   "outputs": [],
   "source": [
    "my_list = [1, 2, 3, 4, 5]\n",
    "my_tuple = (1, 2, 3, 4, 5)\n",
    "my_set = {1, 2, 3, 4, 5}\n",
    "my_string = \"Hello, World!\"\n",
    "my_dict = {\"name\": \"Prakamya\", \"age\": 19, \"city\": \"Singapore\"}\n",
    "\n",
    "print(my_list[4])\n",
    "print(my_tuple[2])\n",
    "# print(my_set[0])  # This will raise an error because sets are unordered\n",
    "print(my_string[7])\n",
    "print(my_dict[\"age\"])"
   ]
  },
  {
   "cell_type": "markdown",
   "id": "1dc0d4e2",
   "metadata": {},
   "source": [
    "### Negative indexing\n",
    "\n",
    "Python supports negative indexing to access elements from the end of an ordered iterable.\n",
    "\n",
    "-1 represents the last element, -2 represents the second last element, and so on.\n",
    "\n",
    "```python\n",
    "my_list = [10, 20, 30, 40, 50]\n",
    "print(my_list[-1])  # -1-th index of my_list is 50\n",
    "print(my_list[-4])  # -4-th index of my_list is 20\n",
    "```"
   ]
  },
  {
   "cell_type": "code",
   "execution_count": null,
   "id": "40d44003",
   "metadata": {},
   "outputs": [],
   "source": [
    "my_list = [1, 2, 3, 4, 5]\n",
    "my_tuple = (1, 2, 3, 4, 5)\n",
    "my_set = {1, 2, 3, 4, 5}\n",
    "my_string = \"Hello, World!\"\n",
    "\n",
    "print(my_list[-4])\n",
    "print(my_tuple[-2])\n",
    "print(my_string[-6])\n",
    "# print(my_set[-1])  # This will raise an error because sets are unordered"
   ]
  },
  {
   "cell_type": "markdown",
   "id": "e00f00fc",
   "metadata": {},
   "source": [
    "## Slicing\n",
    "\n",
    "Slicing allows you to extract a portion of an ordered iterable by specifying a range of indexes.\n",
    "\n",
    "Indexing notation is still used (using `[]`), but instead of a single index, you provide a start index, an end index, and an optional step value, separated by colons `:`.\n",
    "\n",
    "The step value can be negative, in which case it takes values in reverse (from end to start).\n",
    "\n",
    "- `[start:end]` extracts elements from `start` index to `end-1` index. If `start >= len(iterable)` or `end <= start`, an empty iterable is returned.\n",
    "- `[start:end:step]` extracts elements from `start` index to `end-1` index, by taking every `step`-th element.\n",
    "- `[start:end:step]` if `step` is negative, extracts elements from `start` index to `end+1` index, by taking every `step`-th element in reverse. Note that `end` should be less than `start` in this case, otherwise an empty iterable is returned.\n",
    "- `[:end]` extracts elements from the beginning to `end-1` index.\n",
    "- `[start:]` extracts elements from `start` index to the end of the iterable.\n",
    "- `[::step]` extracts elements from the entire iterable, taking every `step`-th element.\n",
    "\n",
    "\n",
    "```python\n",
    "my_list = [10, 20, 30, 40, 50, 60, 70, 80, 90, 100]\n",
    "print(my_list[1:4])  # start at index 1, end before index 4 -> Output: [20, 30, 40]\n",
    "print(my_list[:8])   # start at beginning, end before index 8 -> Output: [10, 20, 30, 40, 50, 60, 70, 80]\n",
    "print(my_list[2:])   # start at index 2, end at the end\n",
    "print(my_list[:3:2])  # start at beginning, end before index 3, step 2 -> Output: [10, 30]\n",
    "print(my_list[8:2:-2]) # start at index 8, end before index 2, step -2 -> Output: [80, 60, 40]\n",
    "```"
   ]
  },
  {
   "cell_type": "code",
   "execution_count": null,
   "id": "f02d432d",
   "metadata": {},
   "outputs": [],
   "source": [
    "my_list = [1, 2, 3, 4, 5, 6, 7, 8, 9, 10]\n",
    "my_string = \"Hello, World!\"\n",
    "\n",
    "print(my_list[2:7])  # prints [3, 4, 5, 6, 7]\n",
    "print(my_string[:5])  # prints \"Hello\"\n",
    "print(my_list[5:])  # prints [6, 7, 8, 9, 10]\n",
    "print(my_string[7:])  # prints \"World!\"\n",
    "print(my_list[1:9:2])  # prints [2, 4, 6, 8]\n",
    "print(my_string[::2])  # prints \"Hlo ol!\"\n",
    "print(my_list[::-1])  # prints [10, 9, 8, 7, 6, 5, 4, 3, 2, 1]\n",
    "print(my_string[8:2:-2]) # prints \"o o\"\n",
    "print(my_string[2:8:-2]) # prints \"\" (empty string)\n",
    "print(my_list[10:]) # prints []"
   ]
  },
  {
   "cell_type": "markdown",
   "id": "6a45eb65",
   "metadata": {},
   "source": [
    "## Looping\n",
    "\n",
    "Looping through the elements of an iterable can be done using any loop:\n",
    "\n",
    "```python\n",
    "my_list = [1, 2, 3, 4, 5]\n",
    "\n",
    "# while loop:\n",
    "i = 0\n",
    "while i < len(my_list):\n",
    "    print(my_list[i])\n",
    "    i += 1\n",
    "\n",
    "# for loop:\n",
    "for i in range(len(my_list)):\n",
    "    print(my_list[i])\n",
    "```\n",
    "\n",
    "### Without indexing\n",
    "You can also loop through the elements of an iterable directly without using indexing:\n",
    "\n",
    "```python\n",
    "my_list = [1, 2, 3, 4, 5]\n",
    "for element in my_list:\n",
    "    print(element)\n",
    "```\n",
    "\n",
    "Note that indexing is not used in the above example. The loop variable `element` takes on the value of each element in `my_list` one at a time. This method is useful for just accessing the elements directly without needing to know their indexes.\n",
    "\n",
    "To choose whether index-based looping or direct element looping is more appropriate, consider the following:\n",
    "- Do you need to know the index of each element while looping?\n",
    "- Are you modifying the iterable while looping?\n",
    "- Do you need to access elements in a non-sequential manner?\n",
    "- Do you need multiple elements at a time (e.g., pairs of elements)?\n",
    "- Would you have random, non-sequential access to elements? (ex: every n-th element)?\n",
    "\n",
    "If the answer to any of these questions is \"yes\", then index-based looping may be more appropriate. Otherwise, direct element looping is often simpler and more readable.\n",
    "\n",
    "#### Iterable property\n",
    "\n",
    "Earlier, an iterable was defined as a collection of values that allow a programmer to access each value one at a time.\n",
    "\n",
    "This property is what allows for direct element looping, and any data structure that allows direct element looping is considered an iterable.\n",
    "\n",
    "```python\n",
    "# if this is possible, then x is an iterable\n",
    "for element in x:\n",
    "    # do something with element\n",
    "```"
   ]
  },
  {
   "cell_type": "code",
   "execution_count": null,
   "id": "abe29261",
   "metadata": {},
   "outputs": [],
   "source": [
    "my_list = [10, 20, 30, 40, 50, 60, 70, 80, 90, 100]\n",
    "\n",
    "# all of the below print the exact same thing: each element in my_list\n",
    "\n",
    "# while loop (requires specific counter variable that you manage yourself)\n",
    "i = 0\n",
    "while i < len(my_list):\n",
    "    print(my_list[i])\n",
    "    i += 1\n",
    "\n",
    "# for loop (index-based)\n",
    "for i in range(len(my_list)):\n",
    "    print(my_list[i])\n",
    "\n",
    "# for loop (element-based)\n",
    "for item in my_list:\n",
    "    print(item)"
   ]
  },
  {
   "cell_type": "code",
   "execution_count": null,
   "id": "6742b164",
   "metadata": {},
   "outputs": [],
   "source": [
    "my_list = [10, 20, 30, 40, 50, 60, 70, 80, 90, 100]\n",
    "\n",
    "# advantage of index-based for loop: you can access the index `i` if needed\n",
    "for i in range(len(my_list)):\n",
    "    print(f\"Index: {i}, Value: {my_list[i]}\")"
   ]
  },
  {
   "cell_type": "markdown",
   "id": "33e9f1da",
   "metadata": {},
   "source": [
    "## `in` keyword\n",
    "\n",
    "The `in` keyword is used to check for membership in an iterable. It returns `True` if the specified value is found in the iterable, and `False` otherwise.\n",
    "\n",
    "```python\n",
    "my_list = [10, 20, 30, 40, 50]\n",
    "print(20 in my_list)  # Output: True\n",
    "print(60 in my_list)  # Output: False\n",
    "```\n",
    "\n",
    "### Substring search\n",
    "You can also use the `in` keyword to check for substrings within strings:\n",
    "\n",
    "```python\n",
    "my_string = \"Hello, World!\"\n",
    "print(\"World\" in my_string)  # Output: True\n",
    "print(\"Python\" in my_string)  # Output: False\n",
    "```"
   ]
  },
  {
   "cell_type": "code",
   "execution_count": null,
   "id": "86c38eab",
   "metadata": {},
   "outputs": [],
   "source": [
    "def search(num, nums):\n",
    "    return num in nums\n",
    "\n",
    "my_list = [10, 20, 30, 40, 50]\n",
    "my_set = {10, 20, 30, 40, 50}\n",
    "print(search(30, my_list))  # Output: True\n",
    "print(search(60, my_list))  # Output: False\n",
    "print(search(30, my_set))   # Output: True\n",
    "print(search(60, my_set))   # Output: False\n",
    "\n",
    "my_string = \"Hello, World!\"\n",
    "print(\"World\" in my_string)  # Output: True\n",
    "print(\"Python\" in my_string)  # Output: False"
   ]
  },
  {
   "cell_type": "markdown",
   "id": "3f02eb20",
   "metadata": {},
   "source": [
    "## Tuples\n",
    "\n",
    "Tuples, once declared, cannot be modified. You cannot add, remove, or change elements in a tuple.\n",
    "\n",
    "```python\n",
    "my_tuple = (1, 2, 3, \"hello\", 4.5)\n",
    "```\n",
    "\n",
    "Indexing, slicing, looping, and the `in` keyword work the same way for tuples as they do for lists and strings."
   ]
  },
  {
   "cell_type": "code",
   "execution_count": null,
   "id": "2424cb71",
   "metadata": {},
   "outputs": [],
   "source": [
    "my_tuple = (1, 2, 3, 4, 5)\n",
    "my_list = [1, 2, 3, 4, 5]\n",
    "\n",
    "my_list[0] = 10  # this works\n",
    "print(my_list)\n",
    "# my_tuple[0] = 10  # this will raise an error if you uncomment\n",
    "print(my_tuple)"
   ]
  },
  {
   "cell_type": "markdown",
   "id": "f960453d",
   "metadata": {},
   "source": [
    "## Sets\n",
    "\n",
    "Sets are unordered collections of unique elements. They do not support indexing or slicing since they do not maintain any specific order. However, you can still loop through sets and use the `in` keyword to check for membership.\n",
    "\n",
    "Since elements must be unique, adding an existing element does nothing."
   ]
  },
  {
   "cell_type": "code",
   "execution_count": null,
   "id": "3bc6fd01",
   "metadata": {},
   "outputs": [],
   "source": [
    "set1 = {1, 2, 3}\n",
    "set1.add(4)  # Adding an element\n",
    "print(set1)  # Output: {1, 2, 3, 4}\n",
    "set1.remove(2)  # Removing an element\n",
    "print(set1)  # Output: {1, 3, 4}\n",
    "set1.add(3)  # Adding an existing element does nothing\n",
    "print(set1)  # Output: {1, 3, 4}"
   ]
  },
  {
   "cell_type": "markdown",
   "id": "c9b4cf9b",
   "metadata": {},
   "source": [
    "## Concatenation\n",
    "\n",
    "You can concatenate (join) two or more ordered iterables of the same type using the `+` operator.\n",
    "\n",
    "Sets and dictionaries do not support concatenation since they are unordered collections."
   ]
  },
  {
   "cell_type": "code",
   "execution_count": null,
   "id": "5f9f79f2",
   "metadata": {},
   "outputs": [],
   "source": [
    "list1 = [1, 2, 3]\n",
    "list2 = [4, 5, 6]\n",
    "combined = list1 + list2\n",
    "print(combined)\n",
    "\n",
    "str1, str2 = \"Hello, \", \"World!\"\n",
    "combined_str = str1 + str2\n",
    "print(combined_str)\n",
    "\n",
    "t1, t2 = (1, 2, 3), (4, 5, 6)\n",
    "combined_tuple = t1 + t2\n",
    "print(combined_tuple)\n",
    "\n",
    "s1, s2 = {1, 4, 5}, {2, 3, 6}\n",
    "# combined_set = s1 + s2 # uncomment to see the error\n",
    "\n",
    "d1, d2 = {\"a\": 1, \"b\": 2}, {\"c\": 3, \"d\": 4}\n",
    "# combined_dict = d1 + d2 # uncomment to see the error"
   ]
  },
  {
   "cell_type": "markdown",
   "id": "721d66c0",
   "metadata": {},
   "source": [
    "## Repetition\n",
    "\n",
    "You can repeat an ordered iterable multiple times using the `*` operator followed by a scalar (positive integer)."
   ]
  },
  {
   "cell_type": "code",
   "execution_count": null,
   "id": "c9531230",
   "metadata": {},
   "outputs": [],
   "source": [
    "my_list = [1, 2] * 3\n",
    "print(my_list)\n",
    "\n",
    "my_string = \"h\" * 50\n",
    "print(my_string)\n",
    "\n",
    "my_tuple = (1,) * 10\n",
    "print(my_tuple)\n",
    "\n",
    "# using a non-positive number results in an empty iterable\n",
    "my_list = [1] * 0\n",
    "print(my_list)\n",
    "\n",
    "my_string = \"abc\" * -10\n",
    "print(my_string)\n",
    "\n",
    "my_tuple = (5, 10, 15) * -1\n",
    "print(my_tuple)\n",
    "\n",
    "# using a non-integer value raises an error\n",
    "# my_list = [1] * 4.5\n",
    "# print(my_list)"
   ]
  }
 ],
 "metadata": {
  "kernelspec": {
   "display_name": ".venv (3.12.10)",
   "language": "python",
   "name": "python3"
  },
  "language_info": {
   "codemirror_mode": {
    "name": "ipython",
    "version": 3
   },
   "file_extension": ".py",
   "mimetype": "text/x-python",
   "name": "python",
   "nbconvert_exporter": "python",
   "pygments_lexer": "ipython3",
   "version": "3.12.10"
  }
 },
 "nbformat": 4,
 "nbformat_minor": 5
}
