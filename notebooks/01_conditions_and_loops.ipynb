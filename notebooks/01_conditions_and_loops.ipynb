{
 "cells": [
  {
   "cell_type": "markdown",
   "id": "6efeb329",
   "metadata": {},
   "source": [
    "# Conditionals\n",
    "\n",
    "Conditionals (or conditional statements) are used to perform different actions based on whether a certain boolean expression evaluates to `True` or `False`. In Python, we use `if`, `elif`, and `else` statements to implement conditional logic.\n",
    "\n",
    "```python\n",
    "if condition1:\n",
    "    # Code to execute if condition1 is True\n",
    "elif condition2:\n",
    "    # Code to execute if condition2 is True\n",
    "else:\n",
    "    # Code to execute if neither condition1 nor condition2 is True\n",
    "```\n",
    "\n",
    "## Conditions\n",
    "Conditions are expressions that evaluate to either `True` or `False`. Many operations can be used to form conditions:\n",
    "- Comparison operators: `==`, `!=`, `<`, `>`, `<=`, `>=`\n",
    "- Logical operators: `and`, `or`, `not`\n",
    "- Membership operators: `in`, `not in` (see in later sections)"
   ]
  },
  {
   "cell_type": "code",
   "execution_count": null,
   "id": "5c35f5ef",
   "metadata": {},
   "outputs": [],
   "source": [
    "x = int(input(\"Enter an integer: \"))\n",
    "\n",
    "if x % 2 == 0:\n",
    "    print(f\"{x} is even\")\n",
    "elif x < 0:\n",
    "    print(f\"{x} is negative and odd\")\n",
    "else:\n",
    "    print(f\"{x} is positive and odd\")"
   ]
  },
  {
   "cell_type": "markdown",
   "id": "d8c23b1b",
   "metadata": {},
   "source": [
    "### Nested conditionals\n",
    "\n",
    "You can nest conditionals within other conditionals for more complex decision-making."
   ]
  },
  {
   "cell_type": "code",
   "execution_count": null,
   "id": "126b35dd",
   "metadata": {},
   "outputs": [],
   "source": [
    "x = int(input(\"Enter an integer: \"))\n",
    "\n",
    "if x % 2 == 0:\n",
    "    if x < 0:\n",
    "        print(f\"{x} is negative and even\")\n",
    "    else:\n",
    "        print(f\"{x} is positive and even\")\n",
    "elif x < 0:\n",
    "    print(f\"{x} is negative and odd\")\n",
    "else:\n",
    "    print(f\"{x} is positive and odd\")\n",
    "\n",
    "# Exercise: Replace the nested conditional with a single conditional using logical operators.\n",
    "# Hint: use the and operator."
   ]
  },
  {
   "cell_type": "markdown",
   "id": "0d7ceb47",
   "metadata": {},
   "source": [
    "# Loops\n",
    "\n",
    "Loops allow you to execute a block of code multiple times. Python provides two types of loops: `for` loops and `while` loops.\n",
    "\n"
   ]
  },
  {
   "cell_type": "markdown",
   "id": "066b7f3b",
   "metadata": {},
   "source": [
    "## While loops\n",
    "\n",
    "```python\n",
    "while condition:\n",
    "    # Code to execute as long as condition is True\n",
    "```"
   ]
  },
  {
   "cell_type": "code",
   "execution_count": null,
   "id": "f743568a",
   "metadata": {},
   "outputs": [],
   "source": [
    "i = 0\n",
    "while i < 5:\n",
    "    print(i)\n",
    "    i += 1"
   ]
  },
  {
   "cell_type": "code",
   "execution_count": null,
   "id": "2ba25dbd",
   "metadata": {},
   "outputs": [],
   "source": [
    "# Find the sum of a series of numbers that are input. If the number 0 is input, stop the program.\n",
    "\n",
    "num = int(input(\"Enter a number (0 to stop): \"))\n",
    "total = 0\n",
    "while num != 0:\n",
    "    total += num\n",
    "    num = int(input(\"Enter a number (0 to stop): \"))\n",
    "print(\"The total is:\", total)"
   ]
  },
  {
   "cell_type": "markdown",
   "id": "17ab719c",
   "metadata": {},
   "source": [
    "## For loops\n",
    "\n",
    "```python\n",
    "for variable in range(start, end, interval):\n",
    "    # Code to execute for each item in the range\n",
    "```\n",
    "\n",
    "### range() function\n",
    "This function generates a sequence of numbers. It can take one, two, or three arguments:\n",
    "- `range(end)`: Generates numbers from `0` to `end - 1`.\n",
    "- `range(start, end)`: Generates numbers from `start` to `end - 1`.\n",
    "- `range(start, end, interval)`: Generates numbers from `start` to `end - 1`, incrementing by `interval`."
   ]
  },
  {
   "cell_type": "code",
   "execution_count": null,
   "id": "49a29452",
   "metadata": {},
   "outputs": [],
   "source": [
    "for i in range(5, 10): # start at 5, end before 10\n",
    "    print(i) # prints 5, 6, 7, 8, 9\n",
    "\n",
    "for i in range(10): # start at 0, end before 10\n",
    "    print(i) # prints 0, 1, 2, ..., 9\n",
    "\n",
    "for i in range(2, 11, 2): # starts at 2, ends before 11, step by 2\n",
    "    print(i) # prints 2, 4, 6, 8, 10"
   ]
  },
  {
   "cell_type": "code",
   "execution_count": null,
   "id": "fad83f6b",
   "metadata": {},
   "outputs": [],
   "source": [
    "# FizzBuzz\n",
    "\n",
    "num = int(input(\"Enter a positive integer: \"))\n",
    "for i in range(1, num + 1):\n",
    "    if i % 3 == 0 and i % 5 == 0:\n",
    "        print(\"FizzBuzz\")\n",
    "    elif i % 3 == 0:\n",
    "        print(\"Fizz\")\n",
    "    elif i % 5 == 0:\n",
    "        print(\"Buzz\")\n",
    "    else:\n",
    "        print(i)"
   ]
  }
 ],
 "metadata": {
  "language_info": {
   "name": "python"
  }
 },
 "nbformat": 4,
 "nbformat_minor": 5
}
