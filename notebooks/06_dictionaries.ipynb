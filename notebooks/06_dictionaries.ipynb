{
 "cells": [
  {
   "cell_type": "markdown",
   "id": "0f6f9a6c",
   "metadata": {},
   "source": [
    "# Dictionaries\n",
    "\n",
    "Dictionaries are unordered collections of key-value pairs. Each key is unique and is used to access its corresponding value.\n",
    "\n",
    "Dictionaries are declared using curly braces `{}` with key-value pairs separated by colons `:` and pairs separated by commas `,`.\n",
    "\n",
    "The keys must be of immutable data types (e.g., strings, numbers, tuples). Strings are most commonly used as keys.\n",
    "\n",
    "```python\n",
    "my_dict = {\n",
    "    \"name\": \"Prakamya\",\n",
    "    \"age\": 19,\n",
    "    \"city\": \"Singapore\",\n",
    "    \"is_student\": True\n",
    "}\n",
    "```"
   ]
  },
  {
   "cell_type": "code",
   "execution_count": 11,
   "id": "48eebba1",
   "metadata": {},
   "outputs": [],
   "source": [
    "my_dict = {\n",
    "    \"name\": \"Prakamya\",\n",
    "    \"age\": 19,\n",
    "    \"city\": \"Singapore\",\n",
    "    \"is_student\": True\n",
    "}"
   ]
  },
  {
   "cell_type": "markdown",
   "id": "9dc144ec",
   "metadata": {},
   "source": [
    "## Element access\n",
    "\n",
    "To access a value in a dictionary, use the key inside square brackets `[]` (like indexing) or the `get()` method.\n",
    "\n",
    "If the key does not exist, square bracket access raises a `KeyError`, while `get()` returns `None` (or a default value if provided)."
   ]
  },
  {
   "cell_type": "code",
   "execution_count": null,
   "id": "eff76837",
   "metadata": {},
   "outputs": [],
   "source": [
    "print(my_dict[\"name\"])\n",
    "print(my_dict.get(\"age\"))\n",
    "\n",
    "# print(my_dict[\"country\"]) # since the key \"country\" does not exist, this raises a KeyError\n",
    "print(my_dict.get(\"country\")) # get handles non-existent keys gracefully by returning None\n",
    "print(my_dict.get(\"country\", \"No country specified\")) # you can provide a default value to return if the key does not exist"
   ]
  },
  {
   "cell_type": "markdown",
   "id": "fd46b08f",
   "metadata": {},
   "source": [
    "## Modifying a dictionary\n",
    "\n",
    "To add key-value entries or update existing values, use square bracket notation.\n",
    "\n",
    "To remove entries, use the `pop()` method."
   ]
  },
  {
   "cell_type": "code",
   "execution_count": null,
   "id": "21cfbd7c",
   "metadata": {},
   "outputs": [],
   "source": [
    "# adding new entries\n",
    "my_dict[\"country\"] = \"Singapore\"\n",
    "print(my_dict)\n",
    "\n",
    "# updating existing entries\n",
    "my_dict[\"name\"] = \"Prakamya Singh\"\n",
    "print(my_dict)\n",
    "\n",
    "# removing entries\n",
    "my_dict.pop(\"is_student\")\n",
    "print(my_dict)\n",
    "\n",
    "# my_dict.pop(\"has_pet\") # throws an error since the key does not exist\n",
    "my_dict.pop(\"has_pet\", \"Key not found\") # does not throw an error, returns default value instead"
   ]
  },
  {
   "cell_type": "markdown",
   "id": "91142434",
   "metadata": {},
   "source": [
    "### Bulk modifications"
   ]
  },
  {
   "cell_type": "code",
   "execution_count": null,
   "id": "1df23252",
   "metadata": {},
   "outputs": [],
   "source": [
    "# add key-value pairs by passing in another dictionary\n",
    "my_dict.update({\n",
    "    \"age\": 19,\n",
    "    \"has_gf\": True,\n",
    "    \"hobbies\": [\"reading\", \"coding\", \"gaming\"]\n",
    "})\n",
    "print(my_dict)\n",
    "\n",
    "# empty the dictionary\n",
    "# my_dict.clear()\n",
    "# print(my_dict)"
   ]
  },
  {
   "cell_type": "markdown",
   "id": "0a8be823",
   "metadata": {},
   "source": [
    "## Getting items"
   ]
  },
  {
   "cell_type": "code",
   "execution_count": null,
   "id": "58999d56",
   "metadata": {},
   "outputs": [],
   "source": [
    "# get the list of keys (no ordering guaranteed)\n",
    "print(my_dict.keys())\n",
    "\n",
    "# get the list of values (no ordering guaranteed)\n",
    "print(my_dict.values())\n",
    "\n",
    "# get a list containing pairs (2-tuples) for the key-value pairs\n",
    "print(my_dict.items())"
   ]
  },
  {
   "cell_type": "markdown",
   "id": "c4891c2e",
   "metadata": {},
   "source": [
    "## Iterating over values\n",
    "\n",
    "Like other iterables, element-based for loops can be used to iterate over a dictionary. In this case, the list of keys is what is being iterated over."
   ]
  },
  {
   "cell_type": "code",
   "execution_count": null,
   "id": "1870fc05",
   "metadata": {},
   "outputs": [],
   "source": [
    "for key in my_dict:\n",
    "    print(f\"{key}: {my_dict[key]}\")\n",
    "\n",
    "# the above is same as below:\n",
    "# for key in my_dict.keys():\n",
    "#     print(f\"{key}: {my_dict[key]}\")\n",
    "\n",
    "# if i don't care about the keys:\n",
    "for value in my_dict.values():\n",
    "    print(value)"
   ]
  }
 ],
 "metadata": {
  "kernelspec": {
   "display_name": ".venv (3.12.10)",
   "language": "python",
   "name": "python3"
  },
  "language_info": {
   "codemirror_mode": {
    "name": "ipython",
    "version": 3
   },
   "file_extension": ".py",
   "mimetype": "text/x-python",
   "name": "python",
   "nbconvert_exporter": "python",
   "pygments_lexer": "ipython3",
   "version": "3.12.10"
  }
 },
 "nbformat": 4,
 "nbformat_minor": 5
}
